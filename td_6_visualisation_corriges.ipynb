{
 "cells": [
  {
   "cell_type": "markdown",
   "id": "assumed-champion",
   "metadata": {
    "id": "Y8DhNcUOp2YC"
   },
   "source": [
    "![Emil](data:image/png;base64,iVBORw0KGgoAAAANSUhEUgAAAUAAAACeCAMAAAB0DSNzAAAAwFBMVEX///+KXv0AAACFVf2DU/2KXvyHWv3ZzP/k5OQJCQmoif7///2GV/2JXP3q4/7//v9dXV1QUFDPz8/49f9sbGytra03NzfKuP6CgoK9qf7m3P/6+P708P+kpKT29vbn3/6jgv3t5v7c3Nzt7e26ov6Tk5OQZ/6ATv28vLxmZmbf1f5ISEh5eXmukv7Rwv3x7P62nv3bz/6Zc/2wlf2de/3NvP6YmJgfHx8uLi4TExOUbP2vk/7FsP7FxcV+R/wrKytlLrrwAAAL/klEQVR4nO2dC1fiOhDHg3ngkoSuoiK0KiiUXZQ37K7I3v3+3+omaYG+pUoLlvzO2auUci75O5nJTB4FQKPRaDQajUaj0Wg0Go1Go9G4UECp81PzMajLob/Hl8U1QS3gBzFqbQfL1Bq+C3XtTf6Xtif12dzGmHAiKWF7OliVm6Zjj9TQdhnGWOvXXM0JhFDIxnnJgXMhJEMQLsdlk1KtXRTUEP/MYQUhJixOqIZLYThDvWl9pCWMghrlSg+SaOW8IkKhYU0ruEF1XEpHDYxIsnQbCESDpvM5YBz6+x8cNc57mEHI31fOo2FvPjGo9odO9K1WEHu36/rBJYLmZRW6D92CQ0OtGdy173r0E3DU6p/6SFs0vV5iaeXbQNjMOulcj9KHeTrfF4ThITjhQEJXJHXvDSD68Qkmeq7jsuaIpwweQcSHSakPTs4PqipVn33W/NZG2Dg5PygbvOp9yvutwSWMUeXE3KDUb9b7VN/1A6fWoduUH6ruYlbQ/uQTELt96HblhSHzL7MF96qfVPDhRNygDB9m6+OD5zg4a56GgqKV+7c/pSA/jV4sDLCShX6iF2PrJGyQjrPRTyi4NOkJjGdW+42/XljrBAbU/V5m+pUwGh+6eZljob3kH3GgYbFNkNLpfvLfGDDno2LXFRrZOUAHMjeKLOBDhg5QItJrtCqsCQrTyLYDKziriqFmEc1QNGsFP1k/3QXSkgIeurUZQMGoxDOXryQjMSjkcJCCt/2XEKLgtllMN9jMR79SCdaLOUdSyT6COHBWyIm6Jso+gLjAxqEbmwW5GaBUsHArPihoZ1XEihSwnqd63bOzK+e38zNBJv8PSjt5hZCSTIltkJ8FPkrVfqhfz79lJmAtL//nAPv5meAPKeCd+jUzASkdZl1F8EMq+Y2ln6Rq5+rX7ATMNYQIOLbyCyKPL1d/nd+yE9DK1wBVZfUAUTg7H7jIW0DSOsQwJjsBP9iDPx55uH2IOc7MBDQ/YIC4RBhKiefPBCdZNOQdMhNwkl5AjuC0MyynYjLYKsg6SRZ4/6N7cXN28737N/aWy7tfV7/uLn3X/t51r+6uHwN3dq9efjq/ZSZgg6XtjXC5qKVeNkkb29E6n8Z/+PHqbMvtecQdT93N+7/u3WvnL+tLv699Nz9vVMtIQErnPJ2AjNflGqR2uZ6ASc2F9/VqBLwC4lHM17l/OfPTvQ/ecu1738kyut5Lv72WeZGxgMISUk4Gw/mI0lHH7iEYDxoYtNyDkEHY68kL/zW9AmLUj/46l6+OBn+en5//Ob/eBIxwrfC/b67CrkqC19/ue3f5CQhAtZfKAOHApEaHsXdUh2MxPJJOj3XKS/Gj5xUQl9gq8rv8cCS7e5Rmd//YVRq++tya0u/19vL86fzS0fIX+K4E/fUor1157DIPASlIl8exlglG0x0+glYUzIWCvC2HSRj5LLBEBlFf5lI13uPD7lXXfPXYoJL46sl9da6ku/J19cebs032BjIX0J2N2xmytGjV3mXcyOFwLPfHkkrHlnr6BeTziKm5J9kD//h7rOrTN5uX91KEF8/764jjVV1q9n39KnsBUw2jxQCuttzxA4zJaIGJCvJ+ATG3a+EvI8X4E4wZj6+un1PciRcX3rfvb5xo7b2m/hDrfp95F6bLFDFE5mCDnWuHXtcasMASCYdh1YGfki/feKRxcNym/yN3Hs2zFtAAKWqpHPZpP13xGmO5WSQsIGqHdtFd+Zz/lu5WDqnBjf9dZYJd/7Wn1+1tGQtoUJpiRQxfUtr6WOIcEnASHIg/ieY9R33H+9+bhl+GxQI/xbVgyrJVLXMfCGopgjDrgHbKtAVjzsVgkP0XFDC0QuHaHwo83Ip3nLHxZcQ9t96Y6/IzRwGrEQJywiAjYd8IJ1SWvrD3TgmPd6MccpE19/v9ml9AWA8ukZFC3ESzkW1XAa9yExCAh7CA0G516p0WDu0WFmO6GfPIh0v2VLLEyBlY+4xTvmC40V7v/Q8IGCwJPp8l4cysHb2Ass0E1y2V4tXqS5XlbVTh2PINekRCoZY9i8yu3xH3hvo2R50apUZ72Gg0Rn4BWSfoA/8kCuiMXY5eQOGy2HwEaK1aroqBmjmcIiIDqauHbRpzXwwhA2s0GtXkDjFzuAzEZ0zwBFBrNUUo7AOFOw0gWvf7eyxfxgLJtAbMho0QWnZGwnom820hVE4GBYMw5xwvp4OhBajZgD4jJHaVggV2ahXo4T0B/21mwOM5PgEp9VsgJw/Amqo2c1aaVcUNzYorIZc+8C0Yhbk6PAvhmZCwvAk8WC4pF/oNnI6NMVw037zaw0bwUBThA59DpasARyhgoAuzGQXuZkMsk7FKU2r8hqC6APugDqOHMZzxBaD9tYLcmXrz7BuDiHg/KKJwwAfeRuYhfo5PQABGfgGb/uoMga2+XL46hjLMshWtxiYiHI0pnWzeZgNAx8hJQ8Q/VbT1KBheIBM/DtxyfAJS6htIyxw/4OUImpbFjVYDIU7mIGkvCZpRukKuSqwKJpvAHA7QqByViVxEfcf7bXn0+AQU1uVN5fgU1ELFBYLshbjTqHMEH4SBxmYiuFdfC4zZgIKkMgVqhuZUfsbnwmvRjk9ASqntaSaZAssON5sjXJfrSof4DYB5RIri3iZ3MbjFBtRPnu1D7ZCAUp1vYS/4eLZV6AgFBNQ7suNLA8wj+ijnkDXkQU7lEW0nJG6kst5uYlvJdS9shaf1ZLNvgoH4XJYS1gWE4xNQMPO1sw0aMWEConFbJWWTuPkQ0bfhA13IzwtvGfYF3r/INGKx/pOqPvtt8FFVqdevjk9AatC6VzBUByOsTiyK8HQMzh7UoTyclWJWdojx8UhaIJmBdny0wbIyG8Ff2Vu/eavzd+rKRp/jE1BI6HNVfGmCcvxplQxW+vJEyzGJOVNQbie0RcxljagqxVZBFr132CkvP1+fq1m5866q13/bTvMeoYAU1DxhmIuWUdC3e4yRaGBvXjaAOhQ08hYmsj0oMpNOooCyHBjJel745uLiwq0u/PGU8I9PQOnJscdXiWxjRalZHlfiaY1r4lO1YWcW9aYF6vLHgiYKyB5ivtCTd2GH5NYbVY5PQMnA32PhwNo8aiAG6hxQFnXGp3uRBnNEP5GTci6XPz3yvfhnkD4n4FlGAi4CYZfxwaS6E7UEzH6CgKSV9Pd5uu6K/ntz0f0RnHc6TgHbobUdJGnZixeWcCVpFJjvVpHMsf2pKo8cw6QDJ04281gX+CXJdZuNI+CyUHuGaZK3ygQx3C6SgMCIqB9kCmwWatt/vlvlZHF1WbTdmolj3v0DGwU7eIJGlrCygxXtTFUj5SrVz+pXOXSD94+5zOXME4deoQaBLquY2coMIAl7RL4uNTsn+YQBxuxw+OKsYE4WSObFPBrezGcwjeWGkUJCh7kc3MHlgoVCWqCc3txDFeZdAYt6iKWsIOcQiDFaFfhhX53sOzGZF/LgrDWZxxHOCv1QApr1IapqA2JxkU9B2+dzWEJg1ipYGSuA8O6VLAuDHMfPZRYB9SybnXayflC/Ys0kRSDPJx4lT6d9BrQodP+VyBUFcpl4Jo4QNYpVhY6lnMVx0riExqfxsFfRyOF750l8BDSgRc2BfahFRcPPPZI0Wr/TsD+XMtqrHxT9t3NK8gkbnOz3wSzy8ZqHblWOSFfV5vsbD3K0eGe5YcFQo43adF+lGUKapxA9Aogmj3ufnunEInuD02Lnb7FQWna68Se8IZZb1k/O+BRqlbPV+tx4Bpeg3Tyh6OvDcftDO/XZjB4I65j0hB9SL6mNWfoCF1bnFXHUKnT5eUdotRK/bynJ+tC0XODpo11Re0GaFZTWCoV8Q+MEBy8RUHWswgy+H07w5gfrtcryUeOn7f38WKtlj6y3P0SFFez+lxNExlVte0GEIM0x7jGCMY4Ny1yohyplQ/u+EIahtsA1V9MegtE7/glDPTyeGKeV9u7K9iFIZr9esRmECDKitrsy50Vpvipb7k5DrWAi8pisan+46gxmlfl89jZeLSbNoq0azxKnNO+MUSh1cxZtcylQW4WpoTYMb7uroTvup9DqaTQajUaj0Wg0Go1Go9FoNJqvy//ukP1g1Wg0JwAAAABJRU5ErkJggg==)"
   ]
  },
  {
   "cell_type": "markdown",
   "id": "expected-island",
   "metadata": {
    "id": "dEZ2-Ygtjqz5",
    "tags": [
     "hide"
    ]
   },
   "source": [
    "# TD VISUALISATION : visualisation interactive avec Facets, les widgets et déploiement d'une application web avec Voilà et Binder\n",
    "\n",
    "L'objectif de ce TD est de :\n",
    "- réaliser une visualisation interactive avec les Widgets permettant d'analyser le jeu de données\n",
    "- transfomer le notebook de visualisation interactive en webapp (application web) avec Voilà\n",
    "- déployer et partager cette application web avec ngrok"
   ]
  },
  {
   "cell_type": "markdown",
   "id": "helpful-wealth",
   "metadata": {
    "id": "KkSFTLKop6iM",
    "tags": [
     "hide"
    ]
   },
   "source": [
    "## I. Manipulation de données"
   ]
  },
  {
   "cell_type": "markdown",
   "id": "crude-consultancy",
   "metadata": {
    "id": "EgGjaCKepJOw",
    "tags": [
     "hide"
    ]
   },
   "source": [
    "### a) Installation des librairies de visualisation\n",
    "\n",
    "Exécutez le script d'installation suivant"
   ]
  },
  {
   "cell_type": "code",
   "execution_count": null,
   "id": "needed-happening",
   "metadata": {
    "id": "p4mrzw_wjqz1",
    "tags": [
     "hide"
    ]
   },
   "outputs": [],
   "source": [
    "import sys\n",
    "!{sys.executable} -m pip install facets-overview protobuf sympy networkx scikit-learn"
   ]
  },
  {
   "cell_type": "markdown",
   "id": "embedded-stability",
   "metadata": {
    "id": "JajsMqmCpgmd",
    "tags": [
     "hide"
    ]
   },
   "source": [
    "Loadez les librairies suivantes"
   ]
  },
  {
   "cell_type": "code",
   "execution_count": null,
   "id": "mysterious-ambassador",
   "metadata": {
    "id": "ovlntt2ljqz5"
   },
   "outputs": [],
   "source": [
    "import numpy as np\n",
    "from collections import Counter\n",
    "from IPython.core.display import display, HTML\n",
    "import base64\n",
    "\n",
    "import pandas as pd\n",
    "\n",
    "from facets_overview.generic_feature_statistics_generator import GenericFeatureStatisticsGenerator\n",
    "import plotly.express as px"
   ]
  },
  {
   "cell_type": "markdown",
   "id": "planned-tract",
   "metadata": {
    "id": "vUk6_fVrpHVm",
    "tags": [
     "hide"
    ]
   },
   "source": [
    "### b) Chargement du dataset\n",
    "Les données utilisés pour ce TD sont issus de Tiller, un logiciel de caisses enregistreuses racheté par sumup recemment.\n",
    "Il s'agit d'un csv où chaque ligne représente le détail d'une commande (ou orders). \n",
    "\n",
    "Vous les avez normalement déjà en votre possesion mais sinon elles sont disponibles à [cette adresse](https://drive.google.com/file/d/1G7Jbq_m-tJrHRhL-44j8XFOVs_zPil_9/view?usp=sharing).\n",
    "\n",
    "Loadez les données dans un DataFrame `df`."
   ]
  },
  {
   "cell_type": "code",
   "execution_count": null,
   "id": "polished-tyler",
   "metadata": {
    "id": "LInpvLQ1jqz8"
   },
   "outputs": [],
   "source": [
    "df = pd.read_csv('../Tiller_order_line.csv')"
   ]
  },
  {
   "cell_type": "code",
   "execution_count": null,
   "id": "incident-jason",
   "metadata": {
    "tags": [
     "hide"
    ]
   },
   "outputs": [],
   "source": [
    "print(df.shape)\n",
    "df.head()"
   ]
  },
  {
   "cell_type": "markdown",
   "id": "plastic-fluid",
   "metadata": {
    "id": "AHsftBHPjqz9",
    "tags": [
     "hide"
    ]
   },
   "source": [
    "**Formatage**\n",
    "\n",
    "Nous allons reprendre le même formating qu'au tp précédent. \n",
    "\n",
    "Exécutez le code ci-dessous."
   ]
  },
  {
   "cell_type": "code",
   "execution_count": null,
   "id": "solved-japan",
   "metadata": {
    "id": "PIzLPWsXjqz-"
   },
   "outputs": [],
   "source": [
    "DATETIME_FORMAT = '%Y-%m-%d %H:%M:%S UTC'\n",
    "\n",
    "# conversion en string\n",
    "df['id_order_line'] = df['id_order_line'].astype(str)\n",
    "df['id_order'] = df['id_order'].astype(str)\n",
    "\n",
    "# formatage des dates\n",
    "df['date_opended'] = pd.to_datetime(df['date_opended'], format=DATETIME_FORMAT)\n",
    "df['date_created'] = pd.to_datetime(df['date_created'], format=DATETIME_FORMAT)"
   ]
  },
  {
   "cell_type": "markdown",
   "id": "primary-account",
   "metadata": {
    "id": "ZL-b7nPPrYgM",
    "tags": [
     "hide"
    ]
   },
   "source": [
    "# II. Visualisation intéractive avec Facets"
   ]
  },
  {
   "cell_type": "markdown",
   "id": "handmade-order",
   "metadata": {
    "id": "sHV9IfqjrYgN",
    "tags": [
     "hide"
    ]
   },
   "source": [
    "\n",
    "### a) Facets Overview\n",
    "Overview donne aux utilisateurs une compréhension rapide de la distribution des valeurs à travers les variables de leurs ensembles de données. Cela permet de mettre en avant les valeurs aberantes, les valeurs manquantes, le biais qu'il peut y avoir en machine learning sur le jeu d'entrainement, de test, etc."
   ]
  },
  {
   "cell_type": "code",
   "execution_count": null,
   "id": "breathing-vehicle",
   "metadata": {
    "colab": {
     "base_uri": "https://localhost:8080/",
     "height": 37,
     "resources": {
      "http://localhost:8080/nbextensions/facets-dist/facets-jupyter.html": {
       "data": "CjwhRE9DVFlQRSBodG1sPgo8aHRtbCBsYW5nPWVuPgogIDxtZXRhIGNoYXJzZXQ9dXRmLTg+CiAgPG1ldGEgbmFtZT12aWV3cG9ydCBjb250ZW50PSJpbml0aWFsLXNjYWxlPTEsIG1pbmltdW0tc2NhbGU9MSwgd2lkdGg9ZGV2aWNlLXdpZHRoIj4KICA8dGl0bGU+RXJyb3IgNDA0IChOb3QgRm91bmQpISExPC90aXRsZT4KICA8c3R5bGU+CiAgICAqe21hcmdpbjowO3BhZGRpbmc6MH1odG1sLGNvZGV7Zm9udDoxNXB4LzIycHggYXJpYWwsc2Fucy1zZXJpZn1odG1se2JhY2tncm91bmQ6I2ZmZjtjb2xvcjojMjIyO3BhZGRpbmc6MTVweH1ib2R5e21hcmdpbjo3JSBhdXRvIDA7bWF4LXdpZHRoOjM5MHB4O21pbi1oZWlnaHQ6MTgwcHg7cGFkZGluZzozMHB4IDAgMTVweH0qID4gYm9keXtiYWNrZ3JvdW5kOnVybCgvL3d3dy5nb29nbGUuY29tL2ltYWdlcy9lcnJvcnMvcm9ib3QucG5nKSAxMDAlIDVweCBuby1yZXBlYXQ7cGFkZGluZy1yaWdodDoyMDVweH1we21hcmdpbjoxMXB4IDAgMjJweDtvdmVyZmxvdzpoaWRkZW59aW5ze2NvbG9yOiM3Nzc7dGV4dC1kZWNvcmF0aW9uOm5vbmV9YSBpbWd7Ym9yZGVyOjB9QG1lZGlhIHNjcmVlbiBhbmQgKG1heC13aWR0aDo3NzJweCl7Ym9keXtiYWNrZ3JvdW5kOm5vbmU7bWFyZ2luLXRvcDowO21heC13aWR0aDpub25lO3BhZGRpbmctcmlnaHQ6MH19I2xvZ297YmFja2dyb3VuZDp1cmwoLy93d3cuZ29vZ2xlLmNvbS9pbWFnZXMvbG9nb3MvZXJyb3JwYWdlL2Vycm9yX2xvZ28tMTUweDU0LnBuZykgbm8tcmVwZWF0O21hcmdpbi1sZWZ0Oi01cHh9QG1lZGlhIG9ubHkgc2NyZWVuIGFuZCAobWluLXJlc29sdXRpb246MTkyZHBpKXsjbG9nb3tiYWNrZ3JvdW5kOnVybCgvL3d3dy5nb29nbGUuY29tL2ltYWdlcy9sb2dvcy9lcnJvcnBhZ2UvZXJyb3JfbG9nby0xNTB4NTQtMngucG5nKSBuby1yZXBlYXQgMCUgMCUvMTAwJSAxMDAlOy1tb3otYm9yZGVyLWltYWdlOnVybCgvL3d3dy5nb29nbGUuY29tL2ltYWdlcy9sb2dvcy9lcnJvcnBhZ2UvZXJyb3JfbG9nby0xNTB4NTQtMngucG5nKSAwfX1AbWVkaWEgb25seSBzY3JlZW4gYW5kICgtd2Via2l0LW1pbi1kZXZpY2UtcGl4ZWwtcmF0aW86Mil7I2xvZ297YmFja2dyb3VuZDp1cmwoLy93d3cuZ29vZ2xlLmNvbS9pbWFnZXMvbG9nb3MvZXJyb3JwYWdlL2Vycm9yX2xvZ28tMTUweDU0LTJ4LnBuZykgbm8tcmVwZWF0Oy13ZWJraXQtYmFja2dyb3VuZC1zaXplOjEwMCUgMTAwJX19I2xvZ297ZGlzcGxheTppbmxpbmUtYmxvY2s7aGVpZ2h0OjU0cHg7d2lkdGg6MTUwcHh9CiAgPC9zdHlsZT4KICA8YSBocmVmPS8vd3d3Lmdvb2dsZS5jb20vPjxzcGFuIGlkPWxvZ28gYXJpYS1sYWJlbD1Hb29nbGU+PC9zcGFuPjwvYT4KICA8cD48Yj40MDQuPC9iPiA8aW5zPlRoYXTigJlzIGFuIGVycm9yLjwvaW5zPgogIDxwPiAgPGlucz5UaGF04oCZcyBhbGwgd2Uga25vdy48L2lucz4K",
       "headers": [
        [
         "content-length",
         "1449"
        ],
        [
         "content-type",
         "text/html; charset=utf-8"
        ]
       ],
       "ok": false,
       "status": 404,
       "status_text": ""
      }
     }
    },
    "executionInfo": {
     "elapsed": 60229,
     "status": "ok",
     "timestamp": 1642953038187,
     "user": {
      "displayName": "Martin Prillard",
      "photoUrl": "https://lh3.googleusercontent.com/a-/AOh14Gis3YIc4vlOeL8rx2YrJ_5LUjyvEJ9FB50-QXsLgA=s64",
      "userId": "07283154445905513808"
     },
     "user_tz": -60
    },
    "id": "_Pe72gCDrYgO",
    "outputId": "8668fc2f-5d06-4d54-c74c-6915f9f25bba",
    "tags": [
     "hide"
    ]
   },
   "outputs": [],
   "source": [
    "# Create the feature stats for the datasets and stringify it.\n",
    "import base64\n",
    "from facets_overview.generic_feature_statistics_generator import GenericFeatureStatisticsGenerator\n",
    "\n",
    "gfsg = GenericFeatureStatisticsGenerator()\n",
    "proto = gfsg.ProtoFromDataFrames([{'name': 'all', 'table': df.sample(1000)}])\n",
    "protostr = base64.b64encode(proto.SerializeToString()).decode(\"utf-8\")\n",
    "\n",
    "# Display the facets overview visualization for this data\n",
    "from IPython.core.display import display, HTML\n",
    "\n",
    "HTML_TEMPLATE = \"\"\"\n",
    "        <script src=\"https://cdnjs.cloudflare.com/ajax/libs/webcomponentsjs/1.3.3/webcomponents-lite.js\"></script>\n",
    "        <link rel=\"import\" href=\"https://raw.githubusercontent.com/PAIR-code/facets/1.0.0/facets-dist/facets-jupyter.html\" >\n",
    "        <facets-overview id=\"elem\"></facets-overview>\n",
    "        <script>\n",
    "          document.querySelector(\"#elem\").protoInput = \"{protostr}\";\n",
    "        </script>\"\"\"\n",
    "html = HTML_TEMPLATE.format(protostr=protostr)\n",
    "display(HTML(html))"
   ]
  },
  {
   "cell_type": "markdown",
   "id": "funny-reward",
   "metadata": {
    "id": "SifM3e1lrYgP",
    "tags": [
     "hide"
    ]
   },
   "source": [
    "### b) Facets Dive\n",
    "\n",
    "Dive est un outil permettant d'explorer de manière interactive un grand nombre de points de données à la fois. Il fournit une interface interactive pour explorer la relation entre les points de données à travers toutes les différentes caractéristiques d'un ensemble de données. Chaque élément individuel de la visualisation représente un point de données. Positionnez les éléments en les \"facettant\" ou en les classant dans plusieurs dimensions en fonction des valeurs de leurs caractéristiques.\n",
    "\n",
    "Demo : https://pair-code.github.io/facets/quickdraw.html"
   ]
  },
  {
   "cell_type": "code",
   "execution_count": null,
   "id": "interpreted-maximum",
   "metadata": {
    "id": "2QOwYNl6rYgQ",
    "tags": [
     "hide"
    ]
   },
   "outputs": [],
   "source": [
    "jsonstr = df.sample(1000).to_json(orient='records')\n",
    "HTML_TEMPLATE = \"\"\"\n",
    "        <script src=\"https://cdnjs.cloudflare.com/ajax/libs/webcomponentsjs/1.3.3/webcomponents-lite.js\"></script>\n",
    "        <link rel=\"import\" href=\"https://raw.githubusercontent.com/PAIR-code/facets/1.0.0/facets-dist/facets-jupyter.html\">\n",
    "        <facets-dive id=\"elem\" height=\"600\"></facets-dive>\n",
    "        <script>\n",
    "          var data = {jsonstr};\n",
    "          document.querySelector(\"#elem\").data = data;\n",
    "        </script>\"\"\"\n",
    "html = HTML_TEMPLATE.format(jsonstr=jsonstr)\n",
    "display(HTML(html))"
   ]
  },
  {
   "cell_type": "markdown",
   "id": "ethical-expansion",
   "metadata": {
    "id": "1JpboWV5rYgQ",
    "tags": [
     "hide"
    ]
   },
   "source": [
    "# III. Exemples de visualisation intéractive avec les widgets"
   ]
  },
  {
   "cell_type": "markdown",
   "id": "helpful-neighbor",
   "metadata": {
    "id": "NIvtUY4Arp6A",
    "tags": [
     "hide"
    ]
   },
   "source": [
    "### a) Qu'est ce qu'un widget ?\n",
    "\n",
    "La liste des widgets est disponible ici : https://ipywidgets.readthedocs.io/en/latest/examples/Widget%20List.html\n",
    "        "
   ]
  },
  {
   "cell_type": "markdown",
   "id": "revolutionary-canyon",
   "metadata": {
    "id": "MtEOEcTIrr81",
    "tags": [
     "hide"
    ]
   },
   "source": [
    "### b) Exemples de visualisations interactives avec des widgets\n",
    "\n",
    "**Graphe aléatoire avec NetworkX**"
   ]
  },
  {
   "cell_type": "code",
   "execution_count": null,
   "id": "artificial-yukon",
   "metadata": {
    "id": "8I6COQWfrYgR",
    "tags": [
     "hide"
    ]
   },
   "outputs": [],
   "source": [
    "from ipywidgets import interact\n",
    "%matplotlib inline\n",
    "import matplotlib.pyplot as plt\n",
    "import networkx as nx\n",
    "\n",
    "def random_lobster(n, m, k, p):\n",
    "    return nx.random_lobster(n, p, p / m)\n",
    "\n",
    "def powerlaw_cluster(n, m, k, p):\n",
    "    return nx.powerlaw_cluster_graph(n, m, p)\n",
    "\n",
    "def erdos_renyi(n, m, k, p):\n",
    "    return nx.erdos_renyi_graph(n, p)\n",
    "\n",
    "def newman_watts_strogatz(n, m, k, p):\n",
    "    return nx.newman_watts_strogatz_graph(n, k, p)\n",
    "\n",
    "def plot_random_graph(n, m, k, p, generator):\n",
    "    g = generator(n, m, k, p)\n",
    "    nx.draw(g)\n",
    "    plt.show()\n",
    "\n",
    "interact(plot_random_graph, n=(2,30), m=(1,10), k=(1,10), p=(0.0, 0.99, 0.001),\n",
    "         generator=[\n",
    "             ('lobster', random_lobster),\n",
    "             ('power law', powerlaw_cluster),\n",
    "             ('Newman-Watts-Strogatz', newman_watts_strogatz),\n",
    "             (u'Erdős-Rényi', erdos_renyi),\n",
    "         ]);"
   ]
  },
  {
   "cell_type": "markdown",
   "id": "appropriate-undergraduate",
   "metadata": {
    "id": "r7ZYgPhCrYgS",
    "tags": [
     "hide"
    ]
   },
   "source": [
    "**Analyse de la fréquence d'un son**"
   ]
  },
  {
   "cell_type": "code",
   "execution_count": null,
   "id": "applied-going",
   "metadata": {
    "colab": {
     "base_uri": "https://localhost:8080/",
     "height": 387,
     "referenced_widgets": [
      "5e6cd63ce52a4d16b6ac95e7ea3ac231",
      "4365118a6bf0487ca3d5f86a0d453676",
      "1f244cac24f1430a814013fda987e259",
      "3d2e373d44d74aad89d27fa01990cd33",
      "c4496501428445028371ae3798617646",
      "99f3a03105fd46a98e623f9361549cb6",
      "df012e1c1d7e4ad9aa9e19d7709f9a2b",
      "62b28c215aaa422195bfb5e7faa116f7",
      "13dd3acfbd204ca8a4edf1f043af616e",
      "667780a9e8d748319448ad227d1c8a32"
     ]
    },
    "executionInfo": {
     "elapsed": 1067,
     "status": "ok",
     "timestamp": 1642870092191,
     "user": {
      "displayName": "Martin Prillard",
      "photoUrl": "https://lh3.googleusercontent.com/a-/AOh14Gis3YIc4vlOeL8rx2YrJ_5LUjyvEJ9FB50-QXsLgA=s64",
      "userId": "07283154445905513808"
     },
     "user_tz": -60
    },
    "id": "HORIb_AYrYgS",
    "outputId": "2e87dfad-062b-4141-aba8-417cf7d1d211",
    "tags": [
     "hide"
    ]
   },
   "outputs": [],
   "source": [
    "%matplotlib inline\n",
    "import matplotlib.pyplot as plt\n",
    "import numpy as np\n",
    "from ipywidgets import interactive\n",
    "from IPython.display import Audio, display\n",
    "import numpy as np\n",
    "\n",
    "def beat_freq(f1=220.0, f2=224.0):\n",
    "    max_time = 3\n",
    "    rate = 8000\n",
    "    times = np.linspace(0,max_time,rate*max_time)\n",
    "    signal = np.sin(2*np.pi*f1*times) + np.sin(2*np.pi*f2*times)\n",
    "    display(Audio(data=signal, rate=rate))\n",
    "    return signal\n",
    "\n",
    "v = interactive(beat_freq, f1=(200.0,300.0), f2=(200.0,300.0))\n",
    "display(v)\n",
    "v.kwargs\n",
    "f1, f2 = v.children[:2]\n",
    "f1.value = 255\n",
    "f2.value = 260\n",
    "plt.plot(v.result[0:6000]);"
   ]
  },
  {
   "cell_type": "markdown",
   "id": "accomplished-change",
   "metadata": {
    "id": "nxp7nic6rYgU",
    "tags": [
     "hide"
    ]
   },
   "source": [
    "**Image Browser : afficher des images via un slider**"
   ]
  },
  {
   "cell_type": "code",
   "execution_count": null,
   "id": "animal-sodium",
   "metadata": {
    "colab": {
     "base_uri": "https://localhost:8080/",
     "height": 313,
     "referenced_widgets": [
      "ebef2c7f1b204ce58ea53095c64892e1",
      "7312718d145f491a9a30cc97a53a19f0",
      "fc6833a6711949b69c7c925cd30d6a54",
      "b0981764c73240ee92b58fb9d66c10d7",
      "fd91303b74b246b1b66abb810edfa102",
      "40c5a7978fbc4c7385f7ed363fee7894",
      "1717c8cb68ba40de84a9ef90e5e7cd86"
     ]
    },
    "executionInfo": {
     "elapsed": 918,
     "status": "ok",
     "timestamp": 1642870100691,
     "user": {
      "displayName": "Martin Prillard",
      "photoUrl": "https://lh3.googleusercontent.com/a-/AOh14Gis3YIc4vlOeL8rx2YrJ_5LUjyvEJ9FB50-QXsLgA=s64",
      "userId": "07283154445905513808"
     },
     "user_tz": -60
    },
    "id": "Pff3afnkrYgU",
    "outputId": "d7baf423-5773-40d1-faa2-beaea724e337",
    "tags": [
     "hide"
    ]
   },
   "outputs": [],
   "source": [
    "%matplotlib inline\n",
    "import matplotlib.pyplot as plt\n",
    "from ipywidgets import interact\n",
    "from sklearn import datasets\n",
    "# We will use the digits dataset from scikit-learn.\n",
    "\n",
    "digits = datasets.load_digits()\n",
    "def browse_images(digits):\n",
    "    n = len(digits.images)\n",
    "    def view_image(i):\n",
    "        plt.imshow(digits.images[i], cmap=plt.cm.gray_r, interpolation='nearest')\n",
    "        plt.title('Training: %s' % digits.target[i])\n",
    "        plt.show()\n",
    "    interact(view_image, i=(0,n-1))\n",
    "browse_images(digits)"
   ]
  },
  {
   "cell_type": "markdown",
   "id": "fitted-purchase",
   "metadata": {
    "id": "boPW2ghDrYgV",
    "tags": [
     "hide"
    ]
   },
   "source": [
    "# IV. Construction d'une visualisation intéractive avec les widgets"
   ]
  },
  {
   "cell_type": "markdown",
   "id": "japanese-authentication",
   "metadata": {
    "id": "cb_xVZmBrYgV",
    "tags": [
     "hide"
    ]
   },
   "source": [
    "### a) Construction des widgets\n",
    "\n",
    "Voir : https://ipywidgets.readthedocs.io/en/latest/examples/Widget%20List.html"
   ]
  },
  {
   "cell_type": "code",
   "execution_count": null,
   "id": "brief-parker",
   "metadata": {
    "id": "oWXHLHeirYgV"
   },
   "outputs": [],
   "source": [
    "import ipywidgets as widgets"
   ]
  },
  {
   "cell_type": "markdown",
   "id": "martial-signal",
   "metadata": {
    "id": "Lj7dgsMErYgV",
    "tags": [
     "hide"
    ]
   },
   "source": [
    "**Créer un widget ```w_type``` comme étant une liste de boutons radio (```RadioButtons```) avec l'ensemble des ```dim_type``` différents :**"
   ]
  },
  {
   "cell_type": "code",
   "execution_count": null,
   "id": "expected-grain",
   "metadata": {
    "id": "h-LbVC6OrYgW"
   },
   "outputs": [],
   "source": [
    "w_type = widgets.RadioButtons(\n",
    "    options=df.dim_type.unique(),\n",
    "    description='Type',\n",
    "    disabled=False\n",
    ")"
   ]
  },
  {
   "cell_type": "code",
   "execution_count": null,
   "id": "external-alpha",
   "metadata": {
    "colab": {
     "base_uri": "https://localhost:8080/",
     "height": 145,
     "referenced_widgets": [
      "c263e6f8096d400a8f48d7c11c10f27a",
      "6fe311661aaa4808ab07a1cc16915ef4",
      "3005b70cecca43de99f18d9cc6c7141e"
     ]
    },
    "executionInfo": {
     "elapsed": 8,
     "status": "ok",
     "timestamp": 1642952271099,
     "user": {
      "displayName": "Martin Prillard",
      "photoUrl": "https://lh3.googleusercontent.com/a-/AOh14Gis3YIc4vlOeL8rx2YrJ_5LUjyvEJ9FB50-QXsLgA=s64",
      "userId": "07283154445905513808"
     },
     "user_tz": -60
    },
    "id": "HU35WwUirYgW",
    "outputId": "dde94be8-93a6-4754-ff63-d6e92477ce8c",
    "tags": [
     "hide"
    ]
   },
   "outputs": [],
   "source": [
    "w_type"
   ]
  },
  {
   "cell_type": "markdown",
   "id": "aquatic-channel",
   "metadata": {
    "id": "umogNj8erYgW",
    "tags": [
     "hide"
    ]
   },
   "source": [
    "**Créer un widget ```w_status``` comme étant une liste de boutons (```ToggleButtons```) contenant le dictionnaire ```statuts``` ci-dessus :**"
   ]
  },
  {
   "cell_type": "code",
   "execution_count": null,
   "id": "considerable-tourism",
   "metadata": {
    "id": "GMZIV6s-rYgW"
   },
   "outputs": [],
   "source": [
    "from collections import OrderedDict\n",
    "\n",
    "statuts = OrderedDict()\n",
    "statuts['IN_PROGRESS'] = 'Commande en cours de préparation'\n",
    "statuts['WAITING'] = 'Commande en attente'\n",
    "statuts['WAITING_SENT'] = 'Commande en attente de livraison'\n",
    "statuts['DONE'] = 'Commande terminée'"
   ]
  },
  {
   "cell_type": "code",
   "execution_count": null,
   "id": "express-demand",
   "metadata": {
    "id": "k8Q1zMzOrYgX"
   },
   "outputs": [],
   "source": [
    "w_status = widgets.ToggleButtons(\n",
    "    options=list(statuts.keys()),\n",
    "    description='Statut',\n",
    "    disabled=False,\n",
    "    tooltips=list(statuts.values()),\n",
    ")"
   ]
  },
  {
   "cell_type": "code",
   "execution_count": null,
   "id": "appointed-local",
   "metadata": {
    "colab": {
     "base_uri": "https://localhost:8080/",
     "height": 49,
     "referenced_widgets": [
      "1b628a4436ab430aa32d46bae84e6fa4",
      "9a4f641915ae41ea8e92f24398df8016",
      "3708db4c7a394477a12ea9c02696ef98"
     ]
    },
    "executionInfo": {
     "elapsed": 5,
     "status": "ok",
     "timestamp": 1642952273054,
     "user": {
      "displayName": "Martin Prillard",
      "photoUrl": "https://lh3.googleusercontent.com/a-/AOh14Gis3YIc4vlOeL8rx2YrJ_5LUjyvEJ9FB50-QXsLgA=s64",
      "userId": "07283154445905513808"
     },
     "user_tz": -60
    },
    "id": "O9L-PJagrYgX",
    "outputId": "c8fc772a-7e63-4368-9533-8f6eb0c3f143",
    "tags": [
     "hide"
    ]
   },
   "outputs": [],
   "source": [
    "w_status"
   ]
  },
  {
   "cell_type": "markdown",
   "id": "broke-champagne",
   "metadata": {
    "id": "yzcQkijPrYgX",
    "tags": [
     "hide"
    ]
   },
   "source": [
    "**Créer un widget ```w_category``` comme étant une liste ordonnée des différentes catégories. \n",
    "Cette liste doit être dans un widget de type ```SelectMultiple``` afin de pouvoir sélectionner plusieurs catégories en même temps :**"
   ]
  },
  {
   "cell_type": "code",
   "execution_count": null,
   "id": "departmental-diana",
   "metadata": {
    "colab": {
     "base_uri": "https://localhost:8080/",
     "height": 72
    },
    "executionInfo": {
     "elapsed": 238,
     "status": "ok",
     "timestamp": 1642952274581,
     "user": {
      "displayName": "Martin Prillard",
      "photoUrl": "https://lh3.googleusercontent.com/a-/AOh14Gis3YIc4vlOeL8rx2YrJ_5LUjyvEJ9FB50-QXsLgA=s64",
      "userId": "07283154445905513808"
     },
     "user_tz": -60
    },
    "id": "rsPrtPH5rYgX",
    "outputId": "ce785f96-cfa1-484f-e477-c5abdaa92428"
   },
   "outputs": [],
   "source": [
    "list_category_ordered = df.dim_category.unique().astype(str)\n",
    "# trie de la liste\n",
    "list_category_ordered.sort()\n",
    "\n",
    "w_category = widgets.SelectMultiple(\n",
    "    options=list_category_ordered,\n",
    "    rows=30,\n",
    "    description='Catégorie(s)',\n",
    "    disabled=False\n",
    ")"
   ]
  },
  {
   "cell_type": "code",
   "execution_count": null,
   "id": "religious-thread",
   "metadata": {
    "colab": {
     "base_uri": "https://localhost:8080/",
     "height": 526,
     "referenced_widgets": [
      "1f22093194df421297514c2507fd3a2a",
      "17687d45e32146e9b453ac491a583dae",
      "8a0629266102417cae268b3bc6fdd46d"
     ]
    },
    "executionInfo": {
     "elapsed": 6,
     "status": "ok",
     "timestamp": 1642952275112,
     "user": {
      "displayName": "Martin Prillard",
      "photoUrl": "https://lh3.googleusercontent.com/a-/AOh14Gis3YIc4vlOeL8rx2YrJ_5LUjyvEJ9FB50-QXsLgA=s64",
      "userId": "07283154445905513808"
     },
     "user_tz": -60
    },
    "id": "oanIPHBkrYgX",
    "outputId": "f0f4d3a8-e47b-4786-b62d-ae5ee01e3a97",
    "tags": [
     "hide"
    ]
   },
   "outputs": [],
   "source": [
    "w_category"
   ]
  },
  {
   "cell_type": "markdown",
   "id": "aerial-refund",
   "metadata": {
    "id": "GQw6xkoUrYgY",
    "tags": [
     "hide"
    ]
   },
   "source": [
    "### b) Intéractions"
   ]
  },
  {
   "cell_type": "markdown",
   "id": "forbidden-stuart",
   "metadata": {
    "id": "1bif0GSMrYgY",
    "tags": [
     "hide"
    ]
   },
   "source": [
    "Des intéractions basiques peuvent se réaliser entre widgets, comme avec l'exemple ci-dessous où on update la liste de catégories en fonction du type de commandes."
   ]
  },
  {
   "cell_type": "code",
   "execution_count": null,
   "id": "chicken-commodity",
   "metadata": {
    "id": "s5loQm7MrYgY"
   },
   "outputs": [],
   "source": [
    "def update_w_category(names):\n",
    "    global w_type, w_category, df\n",
    "    list_category_ordered = df[df.dim_type == w_type.value].dim_category.unique().astype(str)\n",
    "    list_category_ordered.sort()\n",
    "    w_category.options = list_category_ordered\n",
    "\n",
    "w_type.observe(update_w_category, names='value')"
   ]
  },
  {
   "cell_type": "markdown",
   "id": "respected-treasury",
   "metadata": {
    "id": "rwFPgNLUrYgY",
    "tags": [
     "hide"
    ]
   },
   "source": [
    "**Construire une fonction ```filter_df``` qui va filtrer le dataframe en fonction des valeurs des différents widgets précédents.\n",
    "Elle prendra en paramètre un status et un type de commande, ainsi qu'une liste de catégories, et retournera le dataframe filtré (uniquement le top 10 des premières lignes)**"
   ]
  },
  {
   "cell_type": "code",
   "execution_count": null,
   "id": "cheap-pattern",
   "metadata": {
    "id": "fAz4whvgrYgY"
   },
   "outputs": [],
   "source": [
    "from IPython.display import display\n",
    "\n",
    "def display_amount_by_product_name(df):\n",
    "    df = df.groupby('dim_name')['m_quantity'].sum()\n",
    "    df = df.reset_index()\n",
    "    df = df.sort_values('m_quantity', ascending=True)\n",
    "    fig = px.bar(df, x='m_quantity', y='dim_name')\n",
    "    display(fig)\n",
    "\n",
    "def filter_df(status, type, categories):\n",
    "    df_filtered = df[\n",
    "        (df.dim_status == status)\n",
    "        & (df.dim_type == type)\n",
    "        & (df.dim_category.isin(list(categories)))\n",
    "    ]\n",
    "    nb_command = df_filtered.shape[0]\n",
    "    print('%i commandes' % nb_command)\n",
    "    if nb_command > 0:\n",
    "        display_amount_by_product_name(df_filtered)\n",
    "    df.groupby('dim_name')['m_quantity'].sum()\n",
    "\n",
    "    display(df_filtered.head(10))"
   ]
  },
  {
   "cell_type": "markdown",
   "id": "streaming-biotechnology",
   "metadata": {
    "id": "9oja2q3erYgZ",
    "tags": [
     "hide"
    ]
   },
   "source": [
    "**Utiliser la fonction ```interactive``` pour appeler cette fonction avec comme paramètres les widgets précédements créés. Vous stockerez la sortie de la fonction ```interactive``` dans une nouvelle varible nommée ```dash```.**\n",
    "Voir : https://ipywidgets.readthedocs.io/en/latest/examples/Using%20Interact.html"
   ]
  },
  {
   "cell_type": "code",
   "execution_count": null,
   "id": "funky-figure",
   "metadata": {
    "id": "b2JO1z1brYgZ"
   },
   "outputs": [],
   "source": [
    "from ipywidgets import interactive\n",
    "\n",
    "dash = interactive(\n",
    "    filter_df, \n",
    "    status=w_status,\n",
    "    type=w_type,\n",
    "    categories=w_category\n",
    ")"
   ]
  },
  {
   "cell_type": "markdown",
   "id": "tested-posting",
   "metadata": {
    "id": "IDlJeRP1rYgZ",
    "tags": [
     "hide"
    ]
   },
   "source": [
    "**Que vous retourne ```dash.children``` ? Ne pourrions nous pas agencer visuellement ces différents blocs ?**"
   ]
  },
  {
   "cell_type": "code",
   "execution_count": null,
   "id": "million-africa",
   "metadata": {
    "colab": {
     "base_uri": "https://localhost:8080/"
    },
    "executionInfo": {
     "elapsed": 5,
     "status": "ok",
     "timestamp": 1642952285039,
     "user": {
      "displayName": "Martin Prillard",
      "photoUrl": "https://lh3.googleusercontent.com/a-/AOh14Gis3YIc4vlOeL8rx2YrJ_5LUjyvEJ9FB50-QXsLgA=s64",
      "userId": "07283154445905513808"
     },
     "user_tz": -60
    },
    "id": "dLlGMtvErYgZ",
    "outputId": "e64177c9-c923-4d27-a64b-de576a89d6a1",
    "tags": [
     "hide"
    ]
   },
   "outputs": [],
   "source": [
    "dash.children"
   ]
  },
  {
   "cell_type": "markdown",
   "id": "musical-hawaii",
   "metadata": {
    "id": "I_Qj3kaWrYgZ",
    "tags": [
     "hide"
    ]
   },
   "source": [
    "### c) Agencement des widgets avec les Box"
   ]
  },
  {
   "cell_type": "markdown",
   "id": "rural-evans",
   "metadata": {
    "id": "gOPuy2aQrYgZ",
    "tags": [
     "hide"
    ]
   },
   "source": [
    "Les widgets ```HBox``` et ```VBox``` permettent d'agencer les widgets de manières visuellement pratique en les encapsulant."
   ]
  },
  {
   "cell_type": "code",
   "execution_count": null,
   "id": "portuguese-french",
   "metadata": {
    "id": "RYhq5jrvrYga"
   },
   "outputs": [],
   "source": [
    "from ipywidgets import HBox, VBox"
   ]
  },
  {
   "cell_type": "code",
   "execution_count": null,
   "id": "certified-cleaner",
   "metadata": {
    "colab": {
     "base_uri": "https://localhost:8080/",
     "height": 526,
     "referenced_widgets": [
      "f02a2cfd66a44ea494d063f0359c88eb",
      "7b4096bbc8a0450e86fefd6c47b6b23c",
      "1f22093194df421297514c2507fd3a2a",
      "513221b821264cbf8113dfefaaca0199",
      "17687d45e32146e9b453ac491a583dae",
      "8a0629266102417cae268b3bc6fdd46d",
      "4963867d15784399894b8254f72d686c",
      "1b628a4436ab430aa32d46bae84e6fa4",
      "c263e6f8096d400a8f48d7c11c10f27a",
      "9a4f641915ae41ea8e92f24398df8016",
      "3708db4c7a394477a12ea9c02696ef98",
      "6fe311661aaa4808ab07a1cc16915ef4",
      "3005b70cecca43de99f18d9cc6c7141e"
     ]
    },
    "executionInfo": {
     "elapsed": 5,
     "status": "ok",
     "timestamp": 1642952288823,
     "user": {
      "displayName": "Martin Prillard",
      "photoUrl": "https://lh3.googleusercontent.com/a-/AOh14Gis3YIc4vlOeL8rx2YrJ_5LUjyvEJ9FB50-QXsLgA=s64",
      "userId": "07283154445905513808"
     },
     "user_tz": -60
    },
    "id": "mxCIGqmfrYga",
    "outputId": "ac70d2bd-7d8e-408e-c09a-be84fcf1d57e",
    "tags": [
     "hide"
    ]
   },
   "outputs": [],
   "source": [
    "# EXEMPLE D'AGENCEMENT PAS OPTIMISÉ\n",
    "HBox([\n",
    "    w_category,\n",
    "    VBox([\n",
    "        w_status,\n",
    "        w_type\n",
    "    ])\n",
    "])"
   ]
  },
  {
   "cell_type": "markdown",
   "id": "intermediate-yemen",
   "metadata": {
    "id": "qFwZlKnwrYga",
    "tags": [
     "hide"
    ]
   },
   "source": [
    "**Trouver une façon élégante de placer les widgets précédents en utilisant des ```HBox``` et des ```VBox``` et les éléments de la variables ```dash.children```.\n",
    "Testez ensuite le résultat en cliquant sur les widgets.**"
   ]
  },
  {
   "cell_type": "code",
   "execution_count": null,
   "id": "broke-hampton",
   "metadata": {
    "colab": {
     "base_uri": "https://localhost:8080/",
     "height": 686,
     "referenced_widgets": [
      "da07ade0ccf84d6aba28f8968756e04e",
      "c2c9aa1d704648c5ada205831c7d21e8",
      "1b628a4436ab430aa32d46bae84e6fa4",
      "d509db0e00874ecbb3df4781dfd8efe0",
      "9a4f641915ae41ea8e92f24398df8016",
      "3708db4c7a394477a12ea9c02696ef98",
      "40235ca21ea14142aa4b41d07765b1d5",
      "8ac6caa306944173b79a9beded58b74b",
      "0932cdd4cf3f4444a7bc3d22adac34f5",
      "f17ee50e00784a0ab6949de783f3a4ea",
      "c263e6f8096d400a8f48d7c11c10f27a",
      "1f22093194df421297514c2507fd3a2a",
      "6fe311661aaa4808ab07a1cc16915ef4",
      "3005b70cecca43de99f18d9cc6c7141e",
      "17687d45e32146e9b453ac491a583dae",
      "8a0629266102417cae268b3bc6fdd46d",
      "7aa583278e06452294c75a97141dcf68"
     ]
    },
    "executionInfo": {
     "elapsed": 296,
     "status": "ok",
     "timestamp": 1642952294936,
     "user": {
      "displayName": "Martin Prillard",
      "photoUrl": "https://lh3.googleusercontent.com/a-/AOh14Gis3YIc4vlOeL8rx2YrJ_5LUjyvEJ9FB50-QXsLgA=s64",
      "userId": "07283154445905513808"
     },
     "user_tz": -60
    },
    "id": "_I1WD-6CrYga",
    "outputId": "58125d4b-4842-4125-9728-38dde05a2174"
   },
   "outputs": [],
   "source": [
    "from ipywidgets import Layout\n",
    "\n",
    "dash.children[3].layout = Layout(width='65%')\n",
    "\n",
    "VBox([\n",
    "    dash.children[0],\n",
    "    HBox([\n",
    "        VBox([\n",
    "            dash.children[1],\n",
    "            dash.children[2]\n",
    "        ]),\n",
    "        dash.children[3] # widget de type Output où l'on peut afficher dedans une sortie (exemple : dataframe, chart, etc.)\n",
    "    ])\n",
    "])\n"
   ]
  },
  {
   "cell_type": "markdown",
   "id": "terminal-rebate",
   "metadata": {
    "id": "oZTjWY2jrYgb",
    "tags": [
     "hide"
    ]
   },
   "source": [
    "# V. Transformation du notebook en application web avec Voilà"
   ]
  },
  {
   "cell_type": "markdown",
   "id": "occupied-progressive",
   "metadata": {
    "id": "_iDcZuqyrYgb",
    "tags": [
     "hide"
    ]
   },
   "source": [
    "### a) Installez Voila"
   ]
  },
  {
   "cell_type": "code",
   "execution_count": null,
   "id": "choice-reflection",
   "metadata": {
    "id": "Rfh4qNykrYgb",
    "tags": [
     "hide"
    ]
   },
   "outputs": [],
   "source": [
    "import sys\n",
    "!{sys.executable} -m pip install voila"
   ]
  },
  {
   "cell_type": "markdown",
   "id": "buried-fundamental",
   "metadata": {
    "id": "nqUc8uPHrYgb",
    "tags": [
     "hide"
    ]
   },
   "source": [
    "### b) Lancez l'application web avec Voilà"
   ]
  },
  {
   "cell_type": "markdown",
   "id": "contrary-johnston",
   "metadata": {
    "id": "uqj6vhk7rYgb",
    "tags": [
     "hide"
    ]
   },
   "source": [
    "Vous pouvez masquer l'affichage de certaines cellules, que vous aurez taggez au préalable avec un nom de tag (ex: 'hide'), dans le rendu final affiché dans la webapp (exemple : masquer les titres en markdown du notebook ou des sorties de cellules). Pour ce faire vous pouvez ajouter ces arguments :\n",
    "- ```--TagRemovePreprocessor.remove_all_outputs_tags``` : pour masquer la sortie de cellule pour chaque cellule taggée\n",
    "- ```--TagRemovePreprocessor.remove_cell_tags``` : pour masquer à la fois le code de la cellule et sa sortie (le cas échéant) pour chaque cellule taggée"
   ]
  },
  {
   "cell_type": "markdown",
   "id": "typical-jenny",
   "metadata": {
    "id": "XL_grhNsrYgb",
    "tags": [
     "hide"
    ]
   },
   "source": [
    "**Vérifier que toutes les cellules que nous ne souhaitons pas afficher (markdown, etc.) soient bien taggé avec 'hide'.**\n",
    "\n",
    "**Pour ce faire : \"Affichage\"-> \"Barre d'outil de cellule\" -> \"Tags\"**"
   ]
  },
  {
   "cell_type": "markdown",
   "id": "internal-yield",
   "metadata": {
    "id": "IrBLYfAGrYgc",
    "tags": [
     "hide"
    ]
   },
   "source": [
    "Depuis un terminal, lancez la commande :\n",
    "```\n",
    "voila --TagRemovePreprocessor.remove_cell_tags hide mon_notebook.ipynb\n",
    "```"
   ]
  },
  {
   "cell_type": "markdown",
   "id": "combined-cedar",
   "metadata": {
    "id": "8ABYmAV1rYgc",
    "tags": [
     "hide"
    ]
   },
   "source": [
    "# VI. Déploiement de la webapp avec ngrok\n",
    "\n",
    "Voir : https://voila.readthedocs.io/en/stable/deploy.html"
   ]
  },
  {
   "cell_type": "markdown",
   "id": "focused-hormone",
   "metadata": {
    "id": "fas1KGOnrYgc",
    "tags": [
     "hide"
    ]
   },
   "source": [
    "**Installer ngrok**\n",
    "\n",
    "https://ngrok.com/download"
   ]
  },
  {
   "cell_type": "markdown",
   "id": "protecting-education",
   "metadata": {
    "id": "-vMeS2Q8rYgc",
    "tags": [
     "hide"
    ]
   },
   "source": [
    "**Unzippez l'archive, puis authentifiez vous avec votre token :**\n",
    "\n",
    "```./ngrok authtoken <token>```"
   ]
  },
  {
   "cell_type": "markdown",
   "id": "excited-prefix",
   "metadata": {
    "id": "rvSm1Tj8rYgc",
    "tags": [
     "hide"
    ]
   },
   "source": [
    "**S'assurer qu'une webapp voilà est déjà lancée en local (cf : commande voila ci-dessus)**"
   ]
  },
  {
   "cell_type": "markdown",
   "id": "posted-bronze",
   "metadata": {
    "id": "Z-rwXdtxrYgd",
    "tags": [
     "hide"
    ]
   },
   "source": [
    "**Lancer un tunnel sur le port 8866 :**\n",
    "\n",
    "```./ngrok http 8866```"
   ]
  },
  {
   "cell_type": "markdown",
   "id": "assigned-pursuit",
   "metadata": {
    "id": "JevoTGAqrYgd",
    "tags": [
     "hide"
    ]
   },
   "source": [
    "**Cliquez sur le lien affiché dans le terminal (```Forwarding```).\n",
    "Vous pouvez envoyer cette url à votre voisin, il pourra acceder à votre webapp !**"
   ]
  },
  {
   "cell_type": "markdown",
   "id": "cloudy-project",
   "metadata": {
    "id": "vOqsIYKYrYgd",
    "tags": [
     "hide"
    ]
   },
   "source": [
    "# VII. Déploiement de la webapp avec Binder\n",
    "\n",
    "- https://jupyter.org/binder\n",
    "- https://mybinder.org/"
   ]
  },
  {
   "cell_type": "markdown",
   "id": "useful-killing",
   "metadata": {
    "id": "MXaCDptqrYgd"
   },
   "source": [
    "****"
   ]
  }
 ],
 "metadata": {
  "celltoolbar": "Format de la Cellule Texte Brut",
  "colab": {
   "collapsed_sections": [
    "KkSFTLKop6iM",
    "EgGjaCKepJOw",
    "ZL-b7nPPrYgM",
    "1JpboWV5rYgQ",
    "MtEOEcTIrr81",
    "boPW2ghDrYgV",
    "cb_xVZmBrYgV",
    "GQw6xkoUrYgY",
    "I_Qj3kaWrYgZ",
    "oZTjWY2jrYgb",
    "8ABYmAV1rYgc",
    "vOqsIYKYrYgd"
   ],
   "name": "td_5_visualisation_corriges.ipynb",
   "provenance": []
  },
  "kernelspec": {
   "display_name": "Python 3",
   "language": "python",
   "name": "python3"
  },
  "language_info": {
   "codemirror_mode": {
    "name": "ipython",
    "version": 3
   },
   "file_extension": ".py",
   "mimetype": "text/x-python",
   "name": "python",
   "nbconvert_exporter": "python",
   "pygments_lexer": "ipython3",
   "version": "3.8.5"
  },
  "widgets": {
   "application/vnd.jupyter.widget-state+json": {
    "0932cdd4cf3f4444a7bc3d22adac34f5": {
     "model_module": "@jupyter-widgets/output",
     "model_module_version": "1.0.0",
     "model_name": "OutputModel",
     "state": {
      "_dom_classes": [],
      "_model_module": "@jupyter-widgets/output",
      "_model_module_version": "1.0.0",
      "_model_name": "OutputModel",
      "_view_count": null,
      "_view_module": "@jupyter-widgets/output",
      "_view_module_version": "1.0.0",
      "_view_name": "OutputView",
      "layout": "IPY_MODEL_7aa583278e06452294c75a97141dcf68",
      "msg_id": "",
      "outputs": [
       {
        "name": "stdout",
        "output_type": "stream",
        "text": [
         "41 commandes\n"
        ]
       },
       {
        "data": {
         "text/html": "\n  <div id=\"df-9dbcb643-63bf-480b-b032-aef449dd10d5\">\n    <div class=\"colab-df-container\">\n      <div>\n<style scoped>\n    .dataframe tbody tr th:only-of-type {\n        vertical-align: middle;\n    }\n\n    .dataframe tbody tr th {\n        vertical-align: top;\n    }\n\n    .dataframe thead th {\n        text-align: right;\n    }\n</style>\n<table border=\"1\" class=\"dataframe\">\n  <thead>\n    <tr style=\"text-align: right;\">\n      <th></th>\n      <th>id_order_line</th>\n      <th>id_order</th>\n      <th>date_opended</th>\n      <th>date_created</th>\n      <th>m_quantity</th>\n      <th>m_unit_price</th>\n      <th>m_unit_price_exc_vat</th>\n      <th>m_total_price_inc_vat</th>\n      <th>m_total_price_exc_vat</th>\n      <th>m_tax_percent</th>\n      <th>m_discount_amount</th>\n      <th>dim_type</th>\n      <th>dim_category</th>\n      <th>dim_name</th>\n      <th>dim_status</th>\n      <th>m_nb_payed</th>\n      <th>dim_feature_type</th>\n      <th>dim_unit_measure</th>\n      <th>dim_unit_measure_display</th>\n    </tr>\n  </thead>\n  <tbody>\n    <tr>\n      <th>1537</th>\n      <td>495703497</td>\n      <td>110858158</td>\n      <td>2020-01-01 18:38:29</td>\n      <td>2020-01-01 18:42:27</td>\n      <td>1.0</td>\n      <td>4.9</td>\n      <td>4.454545</td>\n      <td>4.9</td>\n      <td>4.454545</td>\n      <td>0.1</td>\n      <td>0.0</td>\n      <td>PRODUCT</td>\n      <td>BOISSONS CHAUDES</td>\n      <td>CHAÏ TEA LATTE</td>\n      <td>IN_PROGRESS</td>\n      <td>0.0</td>\n      <td>BOISSONS</td>\n      <td>NaN</td>\n      <td>NaN</td>\n    </tr>\n    <tr>\n      <th>2036</th>\n      <td>499577536</td>\n      <td>111412325</td>\n      <td>2020-01-05 15:39:11</td>\n      <td>2020-01-05 15:46:31</td>\n      <td>1.0</td>\n      <td>4.9</td>\n      <td>4.454545</td>\n      <td>4.9</td>\n      <td>4.454545</td>\n      <td>0.1</td>\n      <td>0.0</td>\n      <td>PRODUCT</td>\n      <td>BOISSONS CHAUDES</td>\n      <td>CHAÏ TEA LATTE</td>\n      <td>IN_PROGRESS</td>\n      <td>1.0</td>\n      <td>BOISSONS</td>\n      <td>NaN</td>\n      <td>NaN</td>\n    </tr>\n    <tr>\n      <th>2506</th>\n      <td>462368167</td>\n      <td>106151252</td>\n      <td>2019-12-01 15:15:00</td>\n      <td>2019-12-01 15:15:39</td>\n      <td>1.0</td>\n      <td>4.9</td>\n      <td>4.454545</td>\n      <td>4.9</td>\n      <td>4.454545</td>\n      <td>0.1</td>\n      <td>0.0</td>\n      <td>PRODUCT</td>\n      <td>BOISSONS CHAUDES</td>\n      <td>CHAÏ TEA LATTE</td>\n      <td>IN_PROGRESS</td>\n      <td>1.0</td>\n      <td>BOISSONS</td>\n      <td>NaN</td>\n      <td>NaN</td>\n    </tr>\n    <tr>\n      <th>2510</th>\n      <td>559107448</td>\n      <td>122584128</td>\n      <td>2020-03-08 18:43:53</td>\n      <td>2020-03-08 18:44:40</td>\n      <td>1.0</td>\n      <td>4.9</td>\n      <td>4.454545</td>\n      <td>4.9</td>\n      <td>4.454545</td>\n      <td>0.1</td>\n      <td>0.0</td>\n      <td>PRODUCT</td>\n      <td>BOISSONS CHAUDES</td>\n      <td>CHAÏ TEA LATTE</td>\n      <td>IN_PROGRESS</td>\n      <td>1.0</td>\n      <td>BOISSONS</td>\n      <td>NaN</td>\n      <td>NaN</td>\n    </tr>\n    <tr>\n      <th>2514</th>\n      <td>541376241</td>\n      <td>118776697</td>\n      <td>2020-02-16 15:18:59</td>\n      <td>2020-02-16 15:19:10</td>\n      <td>1.0</td>\n      <td>4.9</td>\n      <td>4.454545</td>\n      <td>4.9</td>\n      <td>4.454545</td>\n      <td>0.1</td>\n      <td>0.0</td>\n      <td>PRODUCT</td>\n      <td>BOISSONS CHAUDES</td>\n      <td>CHAÏ TEA LATTE</td>\n      <td>IN_PROGRESS</td>\n      <td>0.0</td>\n      <td>BOISSONS</td>\n      <td>NaN</td>\n      <td>NaN</td>\n    </tr>\n    <tr>\n      <th>3106</th>\n      <td>522652744</td>\n      <td>114960045</td>\n      <td>2020-01-26 14:20:45</td>\n      <td>2020-01-26 14:21:59</td>\n      <td>1.0</td>\n      <td>4.9</td>\n      <td>4.454545</td>\n      <td>4.9</td>\n      <td>4.454545</td>\n      <td>0.1</td>\n      <td>0.0</td>\n      <td>PRODUCT</td>\n      <td>BOISSONS CHAUDES</td>\n      <td>MATCHA LATTE</td>\n      <td>IN_PROGRESS</td>\n      <td>0.0</td>\n      <td>BOISSONS</td>\n      <td>NaN</td>\n      <td>NaN</td>\n    </tr>\n    <tr>\n      <th>3468</th>\n      <td>557851508</td>\n      <td>122344635</td>\n      <td>2020-03-07 13:16:48</td>\n      <td>2020-03-07 13:23:44</td>\n      <td>1.0</td>\n      <td>4.9</td>\n      <td>4.454545</td>\n      <td>4.9</td>\n      <td>4.454545</td>\n      <td>0.1</td>\n      <td>0.0</td>\n      <td>PRODUCT</td>\n      <td>BOISSONS CHAUDES</td>\n      <td>CHAÏ TEA LATTE</td>\n      <td>IN_PROGRESS</td>\n      <td>0.0</td>\n      <td>BOISSONS</td>\n      <td>NaN</td>\n      <td>NaN</td>\n    </tr>\n    <tr>\n      <th>3654</th>\n      <td>547354715</td>\n      <td>120050781</td>\n      <td>2020-02-23 15:55:57</td>\n      <td>2020-02-23 15:57:13</td>\n      <td>1.0</td>\n      <td>4.9</td>\n      <td>4.454545</td>\n      <td>4.9</td>\n      <td>4.454545</td>\n      <td>0.1</td>\n      <td>0.0</td>\n      <td>PRODUCT</td>\n      <td>BOISSONS CHAUDES</td>\n      <td>MATCHA LATTE</td>\n      <td>IN_PROGRESS</td>\n      <td>1.0</td>\n      <td>BOISSONS</td>\n      <td>NaN</td>\n      <td>NaN</td>\n    </tr>\n    <tr>\n      <th>3971</th>\n      <td>558065040</td>\n      <td>122394362</td>\n      <td>2020-03-07 16:59:35</td>\n      <td>2020-03-07 16:59:38</td>\n      <td>1.0</td>\n      <td>4.9</td>\n      <td>4.454545</td>\n      <td>4.9</td>\n      <td>4.454545</td>\n      <td>0.1</td>\n      <td>0.0</td>\n      <td>PRODUCT</td>\n      <td>BOISSONS CHAUDES</td>\n      <td>MATCHA LATTE</td>\n      <td>IN_PROGRESS</td>\n      <td>0.0</td>\n      <td>BOISSONS</td>\n      <td>NaN</td>\n      <td>NaN</td>\n    </tr>\n    <tr>\n      <th>5004</th>\n      <td>529513845</td>\n      <td>116199972</td>\n      <td>2020-02-02 13:43:07</td>\n      <td>2020-02-02 13:46:19</td>\n      <td>1.0</td>\n      <td>4.9</td>\n      <td>4.454545</td>\n      <td>4.9</td>\n      <td>4.454545</td>\n      <td>0.1</td>\n      <td>0.0</td>\n      <td>PRODUCT</td>\n      <td>BOISSONS CHAUDES</td>\n      <td>CHAÏ TEA LATTE</td>\n      <td>IN_PROGRESS</td>\n      <td>0.0</td>\n      <td>BOISSONS</td>\n      <td>NaN</td>\n      <td>NaN</td>\n    </tr>\n  </tbody>\n</table>\n</div>\n      <button class=\"colab-df-convert\" onclick=\"convertToInteractive('df-9dbcb643-63bf-480b-b032-aef449dd10d5')\"\n              title=\"Convert this dataframe to an interactive table.\"\n              style=\"display:none;\">\n        \n  <svg xmlns=\"http://www.w3.org/2000/svg\" height=\"24px\"viewBox=\"0 0 24 24\"\n       width=\"24px\">\n    <path d=\"M0 0h24v24H0V0z\" fill=\"none\"/>\n    <path d=\"M18.56 5.44l.94 2.06.94-2.06 2.06-.94-2.06-.94-.94-2.06-.94 2.06-2.06.94zm-11 1L8.5 8.5l.94-2.06 2.06-.94-2.06-.94L8.5 2.5l-.94 2.06-2.06.94zm10 10l.94 2.06.94-2.06 2.06-.94-2.06-.94-.94-2.06-.94 2.06-2.06.94z\"/><path d=\"M17.41 7.96l-1.37-1.37c-.4-.4-.92-.59-1.43-.59-.52 0-1.04.2-1.43.59L10.3 9.45l-7.72 7.72c-.78.78-.78 2.05 0 2.83L4 21.41c.39.39.9.59 1.41.59.51 0 1.02-.2 1.41-.59l7.78-7.78 2.81-2.81c.8-.78.8-2.07 0-2.86zM5.41 20L4 18.59l7.72-7.72 1.47 1.35L5.41 20z\"/>\n  </svg>\n      </button>\n      \n  <style>\n    .colab-df-container {\n      display:flex;\n      flex-wrap:wrap;\n      gap: 12px;\n    }\n\n    .colab-df-convert {\n      background-color: #E8F0FE;\n      border: none;\n      border-radius: 50%;\n      cursor: pointer;\n      display: none;\n      fill: #1967D2;\n      height: 32px;\n      padding: 0 0 0 0;\n      width: 32px;\n    }\n\n    .colab-df-convert:hover {\n      background-color: #E2EBFA;\n      box-shadow: 0px 1px 2px rgba(60, 64, 67, 0.3), 0px 1px 3px 1px rgba(60, 64, 67, 0.15);\n      fill: #174EA6;\n    }\n\n    [theme=dark] .colab-df-convert {\n      background-color: #3B4455;\n      fill: #D2E3FC;\n    }\n\n    [theme=dark] .colab-df-convert:hover {\n      background-color: #434B5C;\n      box-shadow: 0px 1px 3px 1px rgba(0, 0, 0, 0.15);\n      filter: drop-shadow(0px 1px 2px rgba(0, 0, 0, 0.3));\n      fill: #FFFFFF;\n    }\n  </style>\n\n      <script>\n        const buttonEl =\n          document.querySelector('#df-9dbcb643-63bf-480b-b032-aef449dd10d5 button.colab-df-convert');\n        buttonEl.style.display =\n          google.colab.kernel.accessAllowed ? 'block' : 'none';\n\n        async function convertToInteractive(key) {\n          const element = document.querySelector('#df-9dbcb643-63bf-480b-b032-aef449dd10d5');\n          const dataTable =\n            await google.colab.kernel.invokeFunction('convertToInteractive',\n                                                     [key], {});\n          if (!dataTable) return;\n\n          const docLinkHtml = 'Like what you see? Visit the ' +\n            '<a target=\"_blank\" href=https://colab.research.google.com/notebooks/data_table.ipynb>data table notebook</a>'\n            + ' to learn more about interactive tables.';\n          element.innerHTML = '';\n          dataTable['output_type'] = 'display_data';\n          await google.colab.output.renderOutput(dataTable, element);\n          const docLink = document.createElement('div');\n          docLink.innerHTML = docLinkHtml;\n          element.appendChild(docLink);\n        }\n      </script>\n    </div>\n  </div>\n  ",
         "text/plain": "     id_order_line   id_order  ... dim_unit_measure dim_unit_measure_display\n1537     495703497  110858158  ...              NaN                      NaN\n2036     499577536  111412325  ...              NaN                      NaN\n2506     462368167  106151252  ...              NaN                      NaN\n2510     559107448  122584128  ...              NaN                      NaN\n2514     541376241  118776697  ...              NaN                      NaN\n3106     522652744  114960045  ...              NaN                      NaN\n3468     557851508  122344635  ...              NaN                      NaN\n3654     547354715  120050781  ...              NaN                      NaN\n3971     558065040  122394362  ...              NaN                      NaN\n5004     529513845  116199972  ...              NaN                      NaN\n\n[10 rows x 19 columns]"
        },
        "metadata": {},
        "output_type": "display_data"
       }
      ]
     }
    },
    "13dd3acfbd204ca8a4edf1f043af616e": {
     "model_module": "@jupyter-widgets/base",
     "model_module_version": "1.2.0",
     "model_name": "LayoutModel",
     "state": {
      "_model_module": "@jupyter-widgets/base",
      "_model_module_version": "1.2.0",
      "_model_name": "LayoutModel",
      "_view_count": null,
      "_view_module": "@jupyter-widgets/base",
      "_view_module_version": "1.2.0",
      "_view_name": "LayoutView",
      "align_content": null,
      "align_items": null,
      "align_self": null,
      "border": null,
      "bottom": null,
      "display": null,
      "flex": null,
      "flex_flow": null,
      "grid_area": null,
      "grid_auto_columns": null,
      "grid_auto_flow": null,
      "grid_auto_rows": null,
      "grid_column": null,
      "grid_gap": null,
      "grid_row": null,
      "grid_template_areas": null,
      "grid_template_columns": null,
      "grid_template_rows": null,
      "height": null,
      "justify_content": null,
      "justify_items": null,
      "left": null,
      "margin": null,
      "max_height": null,
      "max_width": null,
      "min_height": null,
      "min_width": null,
      "object_fit": null,
      "object_position": null,
      "order": null,
      "overflow": null,
      "overflow_x": null,
      "overflow_y": null,
      "padding": null,
      "right": null,
      "top": null,
      "visibility": null,
      "width": null
     }
    },
    "1717c8cb68ba40de84a9ef90e5e7cd86": {
     "model_module": "@jupyter-widgets/base",
     "model_module_version": "1.2.0",
     "model_name": "LayoutModel",
     "state": {
      "_model_module": "@jupyter-widgets/base",
      "_model_module_version": "1.2.0",
      "_model_name": "LayoutModel",
      "_view_count": null,
      "_view_module": "@jupyter-widgets/base",
      "_view_module_version": "1.2.0",
      "_view_name": "LayoutView",
      "align_content": null,
      "align_items": null,
      "align_self": null,
      "border": null,
      "bottom": null,
      "display": null,
      "flex": null,
      "flex_flow": null,
      "grid_area": null,
      "grid_auto_columns": null,
      "grid_auto_flow": null,
      "grid_auto_rows": null,
      "grid_column": null,
      "grid_gap": null,
      "grid_row": null,
      "grid_template_areas": null,
      "grid_template_columns": null,
      "grid_template_rows": null,
      "height": null,
      "justify_content": null,
      "justify_items": null,
      "left": null,
      "margin": null,
      "max_height": null,
      "max_width": null,
      "min_height": null,
      "min_width": null,
      "object_fit": null,
      "object_position": null,
      "order": null,
      "overflow": null,
      "overflow_x": null,
      "overflow_y": null,
      "padding": null,
      "right": null,
      "top": null,
      "visibility": null,
      "width": null
     }
    },
    "17687d45e32146e9b453ac491a583dae": {
     "model_module": "@jupyter-widgets/controls",
     "model_module_version": "1.5.0",
     "model_name": "DescriptionStyleModel",
     "state": {
      "_model_module": "@jupyter-widgets/controls",
      "_model_module_version": "1.5.0",
      "_model_name": "DescriptionStyleModel",
      "_view_count": null,
      "_view_module": "@jupyter-widgets/base",
      "_view_module_version": "1.2.0",
      "_view_name": "StyleView",
      "description_width": ""
     }
    },
    "1b628a4436ab430aa32d46bae84e6fa4": {
     "model_module": "@jupyter-widgets/controls",
     "model_module_version": "1.5.0",
     "model_name": "ToggleButtonsModel",
     "state": {
      "_dom_classes": [],
      "_model_module": "@jupyter-widgets/controls",
      "_model_module_version": "1.5.0",
      "_model_name": "ToggleButtonsModel",
      "_options_labels": [
       "IN_PROGRESS",
       "WAITING",
       "WAITING_SENT",
       "DONE"
      ],
      "_view_count": null,
      "_view_module": "@jupyter-widgets/controls",
      "_view_module_version": "1.5.0",
      "_view_name": "ToggleButtonsView",
      "button_style": "",
      "description": "Statut",
      "description_tooltip": null,
      "disabled": false,
      "icons": [],
      "index": 0,
      "layout": "IPY_MODEL_3708db4c7a394477a12ea9c02696ef98",
      "style": "IPY_MODEL_9a4f641915ae41ea8e92f24398df8016",
      "tooltips": [
       "Commande en cours de préparation",
       "Commande en attente",
       "Commande en attente de livraison",
       "Commande terminée"
      ]
     }
    },
    "1f22093194df421297514c2507fd3a2a": {
     "model_module": "@jupyter-widgets/controls",
     "model_module_version": "1.5.0",
     "model_name": "SelectMultipleModel",
     "state": {
      "_dom_classes": [],
      "_model_module": "@jupyter-widgets/controls",
      "_model_module_version": "1.5.0",
      "_model_name": "SelectMultipleModel",
      "_options_labels": [
       "10ML CBD",
       "10ML DICTATOR",
       "10ML EMPIRE BREW",
       "10ML FRENCHLIQUID",
       "10ML HALO",
       "10ML SEL NICO",
       "ACCOMPAGNEMENT",
       "ACCÈS JEU",
       "ALCOOLS",
       "BATTERIES",
       "BIERES",
       "BIERES ",
       "BOISSONS",
       "BOISSONS CHAUDES",
       "BOISSONS GLACÉES",
       "BOULANGERIE",
       "BOUTIQUE",
       "BUGATTI",
       "BULLES",
       "Boissons",
       "Boissons  non alcoolisées",
       "Boissons alcoolisées",
       "CAUTIONS",
       "CIDRES",
       "CLEARO",
       "COURSEMEAL",
       "CURIEUX",
       "Couscous Clan",
       "DESSERT",
       "DIVERS",
       "DIY",
       "Desserts",
       "Déjeuner",
       "ENTREES",
       "EPICERIE",
       "Entrees",
       "Entrées",
       "FOOD",
       "Formule dejeuner",
       "Formules",
       "JEU",
       "JEUX",
       "JUUL/VAZE",
       "Jus / Shake",
       "LIQUIDES 50ML AUTRES",
       "LIQUIDES 50ML HV",
       "MIXOLOGUE",
       "Menus boissons",
       "NOS POKES",
       "PACK",
       "PLATS",
       "POP UP",
       "Pain seul",
       "Petillants",
       "Petite faim / dessert",
       "Plats",
       "RECONSTRUCTIBLE",
       "RESISTANCES",
       "RI BIG POKE SIGNATURES",
       "RI NOS BOISSONS",
       "RI NOS DESSERTS",
       "RI NOS ENTREES",
       "RI NOS FORMULES",
       "RI NOS LIL POKES SIGNATURE",
       "SAKE",
       "SERVICE LIVRAISON",
       "SHOT DE SIROP (0,50€)",
       "SOFTS",
       "SUPPLEMENT BOL",
       "SUPPLEMENT JUS",
       "Soir",
       "Supplément",
       "VAPORISATEURS",
       "VARIOUS",
       "VERRE DE VIN 12CL",
       "VINS BLANCS",
       "VINS ORANGES ET ROSES",
       "VINS ROUGES",
       "Vin",
       "Vin blancs",
       "Vin rouges",
       "Yemma Gine",
       "nan"
      ],
      "_view_count": null,
      "_view_module": "@jupyter-widgets/controls",
      "_view_module_version": "1.5.0",
      "_view_name": "SelectMultipleView",
      "description": "Catégorie(s)",
      "description_tooltip": null,
      "disabled": false,
      "index": [
       13
      ],
      "layout": "IPY_MODEL_8a0629266102417cae268b3bc6fdd46d",
      "rows": 30,
      "style": "IPY_MODEL_17687d45e32146e9b453ac491a583dae"
     }
    },
    "1f244cac24f1430a814013fda987e259": {
     "model_module": "@jupyter-widgets/controls",
     "model_module_version": "1.5.0",
     "model_name": "FloatSliderModel",
     "state": {
      "_dom_classes": [],
      "_model_module": "@jupyter-widgets/controls",
      "_model_module_version": "1.5.0",
      "_model_name": "FloatSliderModel",
      "_view_count": null,
      "_view_module": "@jupyter-widgets/controls",
      "_view_module_version": "1.5.0",
      "_view_name": "FloatSliderView",
      "continuous_update": true,
      "description": "f1",
      "description_tooltip": null,
      "disabled": false,
      "layout": "IPY_MODEL_df012e1c1d7e4ad9aa9e19d7709f9a2b",
      "max": 300,
      "min": 200,
      "orientation": "horizontal",
      "readout": true,
      "readout_format": ".2f",
      "step": 0.1,
      "style": "IPY_MODEL_99f3a03105fd46a98e623f9361549cb6",
      "value": 223
     }
    },
    "3005b70cecca43de99f18d9cc6c7141e": {
     "model_module": "@jupyter-widgets/base",
     "model_module_version": "1.2.0",
     "model_name": "LayoutModel",
     "state": {
      "_model_module": "@jupyter-widgets/base",
      "_model_module_version": "1.2.0",
      "_model_name": "LayoutModel",
      "_view_count": null,
      "_view_module": "@jupyter-widgets/base",
      "_view_module_version": "1.2.0",
      "_view_name": "LayoutView",
      "align_content": null,
      "align_items": null,
      "align_self": null,
      "border": null,
      "bottom": null,
      "display": null,
      "flex": null,
      "flex_flow": null,
      "grid_area": null,
      "grid_auto_columns": null,
      "grid_auto_flow": null,
      "grid_auto_rows": null,
      "grid_column": null,
      "grid_gap": null,
      "grid_row": null,
      "grid_template_areas": null,
      "grid_template_columns": null,
      "grid_template_rows": null,
      "height": null,
      "justify_content": null,
      "justify_items": null,
      "left": null,
      "margin": null,
      "max_height": null,
      "max_width": null,
      "min_height": null,
      "min_width": null,
      "object_fit": null,
      "object_position": null,
      "order": null,
      "overflow": null,
      "overflow_x": null,
      "overflow_y": null,
      "padding": null,
      "right": null,
      "top": null,
      "visibility": null,
      "width": null
     }
    },
    "3708db4c7a394477a12ea9c02696ef98": {
     "model_module": "@jupyter-widgets/base",
     "model_module_version": "1.2.0",
     "model_name": "LayoutModel",
     "state": {
      "_model_module": "@jupyter-widgets/base",
      "_model_module_version": "1.2.0",
      "_model_name": "LayoutModel",
      "_view_count": null,
      "_view_module": "@jupyter-widgets/base",
      "_view_module_version": "1.2.0",
      "_view_name": "LayoutView",
      "align_content": null,
      "align_items": null,
      "align_self": null,
      "border": null,
      "bottom": null,
      "display": null,
      "flex": null,
      "flex_flow": null,
      "grid_area": null,
      "grid_auto_columns": null,
      "grid_auto_flow": null,
      "grid_auto_rows": null,
      "grid_column": null,
      "grid_gap": null,
      "grid_row": null,
      "grid_template_areas": null,
      "grid_template_columns": null,
      "grid_template_rows": null,
      "height": null,
      "justify_content": null,
      "justify_items": null,
      "left": null,
      "margin": null,
      "max_height": null,
      "max_width": null,
      "min_height": null,
      "min_width": null,
      "object_fit": null,
      "object_position": null,
      "order": null,
      "overflow": null,
      "overflow_x": null,
      "overflow_y": null,
      "padding": null,
      "right": null,
      "top": null,
      "visibility": null,
      "width": null
     }
    },
    "3d2e373d44d74aad89d27fa01990cd33": {
     "model_module": "@jupyter-widgets/controls",
     "model_module_version": "1.5.0",
     "model_name": "FloatSliderModel",
     "state": {
      "_dom_classes": [],
      "_model_module": "@jupyter-widgets/controls",
      "_model_module_version": "1.5.0",
      "_model_name": "FloatSliderModel",
      "_view_count": null,
      "_view_module": "@jupyter-widgets/controls",
      "_view_module_version": "1.5.0",
      "_view_name": "FloatSliderView",
      "continuous_update": true,
      "description": "f2",
      "description_tooltip": null,
      "disabled": false,
      "layout": "IPY_MODEL_13dd3acfbd204ca8a4edf1f043af616e",
      "max": 300,
      "min": 200,
      "orientation": "horizontal",
      "readout": true,
      "readout_format": ".2f",
      "step": 0.1,
      "style": "IPY_MODEL_62b28c215aaa422195bfb5e7faa116f7",
      "value": 276.3
     }
    },
    "40235ca21ea14142aa4b41d07765b1d5": {
     "model_module": "@jupyter-widgets/base",
     "model_module_version": "1.2.0",
     "model_name": "LayoutModel",
     "state": {
      "_model_module": "@jupyter-widgets/base",
      "_model_module_version": "1.2.0",
      "_model_name": "LayoutModel",
      "_view_count": null,
      "_view_module": "@jupyter-widgets/base",
      "_view_module_version": "1.2.0",
      "_view_name": "LayoutView",
      "align_content": null,
      "align_items": null,
      "align_self": null,
      "border": null,
      "bottom": null,
      "display": null,
      "flex": null,
      "flex_flow": null,
      "grid_area": null,
      "grid_auto_columns": null,
      "grid_auto_flow": null,
      "grid_auto_rows": null,
      "grid_column": null,
      "grid_gap": null,
      "grid_row": null,
      "grid_template_areas": null,
      "grid_template_columns": null,
      "grid_template_rows": null,
      "height": null,
      "justify_content": null,
      "justify_items": null,
      "left": null,
      "margin": null,
      "max_height": null,
      "max_width": null,
      "min_height": null,
      "min_width": null,
      "object_fit": null,
      "object_position": null,
      "order": null,
      "overflow": null,
      "overflow_x": null,
      "overflow_y": null,
      "padding": null,
      "right": null,
      "top": null,
      "visibility": null,
      "width": null
     }
    },
    "40c5a7978fbc4c7385f7ed363fee7894": {
     "model_module": "@jupyter-widgets/base",
     "model_module_version": "1.2.0",
     "model_name": "LayoutModel",
     "state": {
      "_model_module": "@jupyter-widgets/base",
      "_model_module_version": "1.2.0",
      "_model_name": "LayoutModel",
      "_view_count": null,
      "_view_module": "@jupyter-widgets/base",
      "_view_module_version": "1.2.0",
      "_view_name": "LayoutView",
      "align_content": null,
      "align_items": null,
      "align_self": null,
      "border": null,
      "bottom": null,
      "display": null,
      "flex": null,
      "flex_flow": null,
      "grid_area": null,
      "grid_auto_columns": null,
      "grid_auto_flow": null,
      "grid_auto_rows": null,
      "grid_column": null,
      "grid_gap": null,
      "grid_row": null,
      "grid_template_areas": null,
      "grid_template_columns": null,
      "grid_template_rows": null,
      "height": null,
      "justify_content": null,
      "justify_items": null,
      "left": null,
      "margin": null,
      "max_height": null,
      "max_width": null,
      "min_height": null,
      "min_width": null,
      "object_fit": null,
      "object_position": null,
      "order": null,
      "overflow": null,
      "overflow_x": null,
      "overflow_y": null,
      "padding": null,
      "right": null,
      "top": null,
      "visibility": null,
      "width": null
     }
    },
    "4365118a6bf0487ca3d5f86a0d453676": {
     "model_module": "@jupyter-widgets/base",
     "model_module_version": "1.2.0",
     "model_name": "LayoutModel",
     "state": {
      "_model_module": "@jupyter-widgets/base",
      "_model_module_version": "1.2.0",
      "_model_name": "LayoutModel",
      "_view_count": null,
      "_view_module": "@jupyter-widgets/base",
      "_view_module_version": "1.2.0",
      "_view_name": "LayoutView",
      "align_content": null,
      "align_items": null,
      "align_self": null,
      "border": null,
      "bottom": null,
      "display": null,
      "flex": null,
      "flex_flow": null,
      "grid_area": null,
      "grid_auto_columns": null,
      "grid_auto_flow": null,
      "grid_auto_rows": null,
      "grid_column": null,
      "grid_gap": null,
      "grid_row": null,
      "grid_template_areas": null,
      "grid_template_columns": null,
      "grid_template_rows": null,
      "height": null,
      "justify_content": null,
      "justify_items": null,
      "left": null,
      "margin": null,
      "max_height": null,
      "max_width": null,
      "min_height": null,
      "min_width": null,
      "object_fit": null,
      "object_position": null,
      "order": null,
      "overflow": null,
      "overflow_x": null,
      "overflow_y": null,
      "padding": null,
      "right": null,
      "top": null,
      "visibility": null,
      "width": null
     }
    },
    "4963867d15784399894b8254f72d686c": {
     "model_module": "@jupyter-widgets/base",
     "model_module_version": "1.2.0",
     "model_name": "LayoutModel",
     "state": {
      "_model_module": "@jupyter-widgets/base",
      "_model_module_version": "1.2.0",
      "_model_name": "LayoutModel",
      "_view_count": null,
      "_view_module": "@jupyter-widgets/base",
      "_view_module_version": "1.2.0",
      "_view_name": "LayoutView",
      "align_content": null,
      "align_items": null,
      "align_self": null,
      "border": null,
      "bottom": null,
      "display": null,
      "flex": null,
      "flex_flow": null,
      "grid_area": null,
      "grid_auto_columns": null,
      "grid_auto_flow": null,
      "grid_auto_rows": null,
      "grid_column": null,
      "grid_gap": null,
      "grid_row": null,
      "grid_template_areas": null,
      "grid_template_columns": null,
      "grid_template_rows": null,
      "height": null,
      "justify_content": null,
      "justify_items": null,
      "left": null,
      "margin": null,
      "max_height": null,
      "max_width": null,
      "min_height": null,
      "min_width": null,
      "object_fit": null,
      "object_position": null,
      "order": null,
      "overflow": null,
      "overflow_x": null,
      "overflow_y": null,
      "padding": null,
      "right": null,
      "top": null,
      "visibility": null,
      "width": null
     }
    },
    "513221b821264cbf8113dfefaaca0199": {
     "model_module": "@jupyter-widgets/controls",
     "model_module_version": "1.5.0",
     "model_name": "VBoxModel",
     "state": {
      "_dom_classes": [],
      "_model_module": "@jupyter-widgets/controls",
      "_model_module_version": "1.5.0",
      "_model_name": "VBoxModel",
      "_view_count": null,
      "_view_module": "@jupyter-widgets/controls",
      "_view_module_version": "1.5.0",
      "_view_name": "VBoxView",
      "box_style": "",
      "children": [
       "IPY_MODEL_1b628a4436ab430aa32d46bae84e6fa4",
       "IPY_MODEL_c263e6f8096d400a8f48d7c11c10f27a"
      ],
      "layout": "IPY_MODEL_4963867d15784399894b8254f72d686c"
     }
    },
    "5e6cd63ce52a4d16b6ac95e7ea3ac231": {
     "model_module": "@jupyter-widgets/controls",
     "model_module_version": "1.5.0",
     "model_name": "VBoxModel",
     "state": {
      "_dom_classes": [
       "widget-interact"
      ],
      "_model_module": "@jupyter-widgets/controls",
      "_model_module_version": "1.5.0",
      "_model_name": "VBoxModel",
      "_view_count": null,
      "_view_module": "@jupyter-widgets/controls",
      "_view_module_version": "1.5.0",
      "_view_name": "VBoxView",
      "box_style": "",
      "children": [
       "IPY_MODEL_1f244cac24f1430a814013fda987e259",
       "IPY_MODEL_3d2e373d44d74aad89d27fa01990cd33",
       "IPY_MODEL_c4496501428445028371ae3798617646"
      ],
      "layout": "IPY_MODEL_4365118a6bf0487ca3d5f86a0d453676"
     }
    },
    "62b28c215aaa422195bfb5e7faa116f7": {
     "model_module": "@jupyter-widgets/controls",
     "model_module_version": "1.5.0",
     "model_name": "SliderStyleModel",
     "state": {
      "_model_module": "@jupyter-widgets/controls",
      "_model_module_version": "1.5.0",
      "_model_name": "SliderStyleModel",
      "_view_count": null,
      "_view_module": "@jupyter-widgets/base",
      "_view_module_version": "1.2.0",
      "_view_name": "StyleView",
      "description_width": "",
      "handle_color": null
     }
    },
    "667780a9e8d748319448ad227d1c8a32": {
     "model_module": "@jupyter-widgets/base",
     "model_module_version": "1.2.0",
     "model_name": "LayoutModel",
     "state": {
      "_model_module": "@jupyter-widgets/base",
      "_model_module_version": "1.2.0",
      "_model_name": "LayoutModel",
      "_view_count": null,
      "_view_module": "@jupyter-widgets/base",
      "_view_module_version": "1.2.0",
      "_view_name": "LayoutView",
      "align_content": null,
      "align_items": null,
      "align_self": null,
      "border": null,
      "bottom": null,
      "display": null,
      "flex": null,
      "flex_flow": null,
      "grid_area": null,
      "grid_auto_columns": null,
      "grid_auto_flow": null,
      "grid_auto_rows": null,
      "grid_column": null,
      "grid_gap": null,
      "grid_row": null,
      "grid_template_areas": null,
      "grid_template_columns": null,
      "grid_template_rows": null,
      "height": null,
      "justify_content": null,
      "justify_items": null,
      "left": null,
      "margin": null,
      "max_height": null,
      "max_width": null,
      "min_height": null,
      "min_width": null,
      "object_fit": null,
      "object_position": null,
      "order": null,
      "overflow": null,
      "overflow_x": null,
      "overflow_y": null,
      "padding": null,
      "right": null,
      "top": null,
      "visibility": null,
      "width": null
     }
    },
    "6fe311661aaa4808ab07a1cc16915ef4": {
     "model_module": "@jupyter-widgets/controls",
     "model_module_version": "1.5.0",
     "model_name": "DescriptionStyleModel",
     "state": {
      "_model_module": "@jupyter-widgets/controls",
      "_model_module_version": "1.5.0",
      "_model_name": "DescriptionStyleModel",
      "_view_count": null,
      "_view_module": "@jupyter-widgets/base",
      "_view_module_version": "1.2.0",
      "_view_name": "StyleView",
      "description_width": ""
     }
    },
    "7312718d145f491a9a30cc97a53a19f0": {
     "model_module": "@jupyter-widgets/base",
     "model_module_version": "1.2.0",
     "model_name": "LayoutModel",
     "state": {
      "_model_module": "@jupyter-widgets/base",
      "_model_module_version": "1.2.0",
      "_model_name": "LayoutModel",
      "_view_count": null,
      "_view_module": "@jupyter-widgets/base",
      "_view_module_version": "1.2.0",
      "_view_name": "LayoutView",
      "align_content": null,
      "align_items": null,
      "align_self": null,
      "border": null,
      "bottom": null,
      "display": null,
      "flex": null,
      "flex_flow": null,
      "grid_area": null,
      "grid_auto_columns": null,
      "grid_auto_flow": null,
      "grid_auto_rows": null,
      "grid_column": null,
      "grid_gap": null,
      "grid_row": null,
      "grid_template_areas": null,
      "grid_template_columns": null,
      "grid_template_rows": null,
      "height": null,
      "justify_content": null,
      "justify_items": null,
      "left": null,
      "margin": null,
      "max_height": null,
      "max_width": null,
      "min_height": null,
      "min_width": null,
      "object_fit": null,
      "object_position": null,
      "order": null,
      "overflow": null,
      "overflow_x": null,
      "overflow_y": null,
      "padding": null,
      "right": null,
      "top": null,
      "visibility": null,
      "width": null
     }
    },
    "7aa583278e06452294c75a97141dcf68": {
     "model_module": "@jupyter-widgets/base",
     "model_module_version": "1.2.0",
     "model_name": "LayoutModel",
     "state": {
      "_model_module": "@jupyter-widgets/base",
      "_model_module_version": "1.2.0",
      "_model_name": "LayoutModel",
      "_view_count": null,
      "_view_module": "@jupyter-widgets/base",
      "_view_module_version": "1.2.0",
      "_view_name": "LayoutView",
      "align_content": null,
      "align_items": null,
      "align_self": null,
      "border": null,
      "bottom": null,
      "display": null,
      "flex": null,
      "flex_flow": null,
      "grid_area": null,
      "grid_auto_columns": null,
      "grid_auto_flow": null,
      "grid_auto_rows": null,
      "grid_column": null,
      "grid_gap": null,
      "grid_row": null,
      "grid_template_areas": null,
      "grid_template_columns": null,
      "grid_template_rows": null,
      "height": null,
      "justify_content": null,
      "justify_items": null,
      "left": null,
      "margin": null,
      "max_height": null,
      "max_width": null,
      "min_height": null,
      "min_width": null,
      "object_fit": null,
      "object_position": null,
      "order": null,
      "overflow": null,
      "overflow_x": null,
      "overflow_y": null,
      "padding": null,
      "right": null,
      "top": null,
      "visibility": null,
      "width": "65%"
     }
    },
    "7b4096bbc8a0450e86fefd6c47b6b23c": {
     "model_module": "@jupyter-widgets/base",
     "model_module_version": "1.2.0",
     "model_name": "LayoutModel",
     "state": {
      "_model_module": "@jupyter-widgets/base",
      "_model_module_version": "1.2.0",
      "_model_name": "LayoutModel",
      "_view_count": null,
      "_view_module": "@jupyter-widgets/base",
      "_view_module_version": "1.2.0",
      "_view_name": "LayoutView",
      "align_content": null,
      "align_items": null,
      "align_self": null,
      "border": null,
      "bottom": null,
      "display": null,
      "flex": null,
      "flex_flow": null,
      "grid_area": null,
      "grid_auto_columns": null,
      "grid_auto_flow": null,
      "grid_auto_rows": null,
      "grid_column": null,
      "grid_gap": null,
      "grid_row": null,
      "grid_template_areas": null,
      "grid_template_columns": null,
      "grid_template_rows": null,
      "height": null,
      "justify_content": null,
      "justify_items": null,
      "left": null,
      "margin": null,
      "max_height": null,
      "max_width": null,
      "min_height": null,
      "min_width": null,
      "object_fit": null,
      "object_position": null,
      "order": null,
      "overflow": null,
      "overflow_x": null,
      "overflow_y": null,
      "padding": null,
      "right": null,
      "top": null,
      "visibility": null,
      "width": null
     }
    },
    "8a0629266102417cae268b3bc6fdd46d": {
     "model_module": "@jupyter-widgets/base",
     "model_module_version": "1.2.0",
     "model_name": "LayoutModel",
     "state": {
      "_model_module": "@jupyter-widgets/base",
      "_model_module_version": "1.2.0",
      "_model_name": "LayoutModel",
      "_view_count": null,
      "_view_module": "@jupyter-widgets/base",
      "_view_module_version": "1.2.0",
      "_view_name": "LayoutView",
      "align_content": null,
      "align_items": null,
      "align_self": null,
      "border": null,
      "bottom": null,
      "display": null,
      "flex": null,
      "flex_flow": null,
      "grid_area": null,
      "grid_auto_columns": null,
      "grid_auto_flow": null,
      "grid_auto_rows": null,
      "grid_column": null,
      "grid_gap": null,
      "grid_row": null,
      "grid_template_areas": null,
      "grid_template_columns": null,
      "grid_template_rows": null,
      "height": null,
      "justify_content": null,
      "justify_items": null,
      "left": null,
      "margin": null,
      "max_height": null,
      "max_width": null,
      "min_height": null,
      "min_width": null,
      "object_fit": null,
      "object_position": null,
      "order": null,
      "overflow": null,
      "overflow_x": null,
      "overflow_y": null,
      "padding": null,
      "right": null,
      "top": null,
      "visibility": null,
      "width": null
     }
    },
    "8ac6caa306944173b79a9beded58b74b": {
     "model_module": "@jupyter-widgets/controls",
     "model_module_version": "1.5.0",
     "model_name": "VBoxModel",
     "state": {
      "_dom_classes": [],
      "_model_module": "@jupyter-widgets/controls",
      "_model_module_version": "1.5.0",
      "_model_name": "VBoxModel",
      "_view_count": null,
      "_view_module": "@jupyter-widgets/controls",
      "_view_module_version": "1.5.0",
      "_view_name": "VBoxView",
      "box_style": "",
      "children": [
       "IPY_MODEL_c263e6f8096d400a8f48d7c11c10f27a",
       "IPY_MODEL_1f22093194df421297514c2507fd3a2a"
      ],
      "layout": "IPY_MODEL_f17ee50e00784a0ab6949de783f3a4ea"
     }
    },
    "99f3a03105fd46a98e623f9361549cb6": {
     "model_module": "@jupyter-widgets/controls",
     "model_module_version": "1.5.0",
     "model_name": "SliderStyleModel",
     "state": {
      "_model_module": "@jupyter-widgets/controls",
      "_model_module_version": "1.5.0",
      "_model_name": "SliderStyleModel",
      "_view_count": null,
      "_view_module": "@jupyter-widgets/base",
      "_view_module_version": "1.2.0",
      "_view_name": "StyleView",
      "description_width": "",
      "handle_color": null
     }
    },
    "9a4f641915ae41ea8e92f24398df8016": {
     "model_module": "@jupyter-widgets/controls",
     "model_module_version": "1.5.0",
     "model_name": "ToggleButtonsStyleModel",
     "state": {
      "_model_module": "@jupyter-widgets/controls",
      "_model_module_version": "1.5.0",
      "_model_name": "ToggleButtonsStyleModel",
      "_view_count": null,
      "_view_module": "@jupyter-widgets/base",
      "_view_module_version": "1.2.0",
      "_view_name": "StyleView",
      "button_width": "",
      "description_width": "",
      "font_weight": ""
     }
    },
    "b0981764c73240ee92b58fb9d66c10d7": {
     "model_module": "@jupyter-widgets/output",
     "model_module_version": "1.0.0",
     "model_name": "OutputModel",
     "state": {
      "_dom_classes": [],
      "_model_module": "@jupyter-widgets/output",
      "_model_module_version": "1.0.0",
      "_model_name": "OutputModel",
      "_view_count": null,
      "_view_module": "@jupyter-widgets/output",
      "_view_module_version": "1.0.0",
      "_view_name": "OutputView",
      "layout": "IPY_MODEL_1717c8cb68ba40de84a9ef90e5e7cd86",
      "msg_id": "",
      "outputs": [
       {
        "data": {
         "image/png": "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\n",
         "text/plain": "<Figure size 432x288 with 1 Axes>"
        },
        "metadata": {
         "needs_background": "light"
        },
        "output_type": "display_data"
       }
      ]
     }
    },
    "c263e6f8096d400a8f48d7c11c10f27a": {
     "model_module": "@jupyter-widgets/controls",
     "model_module_version": "1.5.0",
     "model_name": "RadioButtonsModel",
     "state": {
      "_dom_classes": [],
      "_model_module": "@jupyter-widgets/controls",
      "_model_module_version": "1.5.0",
      "_model_name": "RadioButtonsModel",
      "_options_labels": [
       "PRODUCT",
       "DISCOUNT",
       "MEAL",
       "OPTION",
       "nan"
      ],
      "_view_count": null,
      "_view_module": "@jupyter-widgets/controls",
      "_view_module_version": "1.5.0",
      "_view_name": "RadioButtonsView",
      "description": "Type",
      "description_tooltip": null,
      "disabled": false,
      "index": 0,
      "layout": "IPY_MODEL_3005b70cecca43de99f18d9cc6c7141e",
      "style": "IPY_MODEL_6fe311661aaa4808ab07a1cc16915ef4"
     }
    },
    "c2c9aa1d704648c5ada205831c7d21e8": {
     "model_module": "@jupyter-widgets/base",
     "model_module_version": "1.2.0",
     "model_name": "LayoutModel",
     "state": {
      "_model_module": "@jupyter-widgets/base",
      "_model_module_version": "1.2.0",
      "_model_name": "LayoutModel",
      "_view_count": null,
      "_view_module": "@jupyter-widgets/base",
      "_view_module_version": "1.2.0",
      "_view_name": "LayoutView",
      "align_content": null,
      "align_items": null,
      "align_self": null,
      "border": null,
      "bottom": null,
      "display": null,
      "flex": null,
      "flex_flow": null,
      "grid_area": null,
      "grid_auto_columns": null,
      "grid_auto_flow": null,
      "grid_auto_rows": null,
      "grid_column": null,
      "grid_gap": null,
      "grid_row": null,
      "grid_template_areas": null,
      "grid_template_columns": null,
      "grid_template_rows": null,
      "height": null,
      "justify_content": null,
      "justify_items": null,
      "left": null,
      "margin": null,
      "max_height": null,
      "max_width": null,
      "min_height": null,
      "min_width": null,
      "object_fit": null,
      "object_position": null,
      "order": null,
      "overflow": null,
      "overflow_x": null,
      "overflow_y": null,
      "padding": null,
      "right": null,
      "top": null,
      "visibility": null,
      "width": null
     }
    },
    "c4496501428445028371ae3798617646": {
     "model_module": "@jupyter-widgets/output",
     "model_module_version": "1.0.0",
     "model_name": "OutputModel",
     "state": {
      "_dom_classes": [],
      "_model_module": "@jupyter-widgets/output",
      "_model_module_version": "1.0.0",
      "_model_name": "OutputModel",
      "_view_count": null,
      "_view_module": "@jupyter-widgets/output",
      "_view_module_version": "1.0.0",
      "_view_name": "OutputView",
      "layout": "IPY_MODEL_667780a9e8d748319448ad227d1c8a32",
      "msg_id": "",
      "outputs": [
       {
        "data": {
         "text/html": "\n                <audio controls=\"controls\" >\n                    <source src=\"data:audio/wav;base64,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\" type=\"audio/wav\" />\n                    Your browser does not support the audio element.\n                </audio>\n              ",
         "text/plain": "<IPython.lib.display.Audio object>"
        },
        "metadata": {},
        "output_type": "display_data"
       }
      ]
     }
    },
    "d509db0e00874ecbb3df4781dfd8efe0": {
     "model_module": "@jupyter-widgets/controls",
     "model_module_version": "1.5.0",
     "model_name": "HBoxModel",
     "state": {
      "_dom_classes": [],
      "_model_module": "@jupyter-widgets/controls",
      "_model_module_version": "1.5.0",
      "_model_name": "HBoxModel",
      "_view_count": null,
      "_view_module": "@jupyter-widgets/controls",
      "_view_module_version": "1.5.0",
      "_view_name": "HBoxView",
      "box_style": "",
      "children": [
       "IPY_MODEL_8ac6caa306944173b79a9beded58b74b",
       "IPY_MODEL_0932cdd4cf3f4444a7bc3d22adac34f5"
      ],
      "layout": "IPY_MODEL_40235ca21ea14142aa4b41d07765b1d5"
     }
    },
    "da07ade0ccf84d6aba28f8968756e04e": {
     "model_module": "@jupyter-widgets/controls",
     "model_module_version": "1.5.0",
     "model_name": "VBoxModel",
     "state": {
      "_dom_classes": [],
      "_model_module": "@jupyter-widgets/controls",
      "_model_module_version": "1.5.0",
      "_model_name": "VBoxModel",
      "_view_count": null,
      "_view_module": "@jupyter-widgets/controls",
      "_view_module_version": "1.5.0",
      "_view_name": "VBoxView",
      "box_style": "",
      "children": [
       "IPY_MODEL_1b628a4436ab430aa32d46bae84e6fa4",
       "IPY_MODEL_d509db0e00874ecbb3df4781dfd8efe0"
      ],
      "layout": "IPY_MODEL_c2c9aa1d704648c5ada205831c7d21e8"
     }
    },
    "df012e1c1d7e4ad9aa9e19d7709f9a2b": {
     "model_module": "@jupyter-widgets/base",
     "model_module_version": "1.2.0",
     "model_name": "LayoutModel",
     "state": {
      "_model_module": "@jupyter-widgets/base",
      "_model_module_version": "1.2.0",
      "_model_name": "LayoutModel",
      "_view_count": null,
      "_view_module": "@jupyter-widgets/base",
      "_view_module_version": "1.2.0",
      "_view_name": "LayoutView",
      "align_content": null,
      "align_items": null,
      "align_self": null,
      "border": null,
      "bottom": null,
      "display": null,
      "flex": null,
      "flex_flow": null,
      "grid_area": null,
      "grid_auto_columns": null,
      "grid_auto_flow": null,
      "grid_auto_rows": null,
      "grid_column": null,
      "grid_gap": null,
      "grid_row": null,
      "grid_template_areas": null,
      "grid_template_columns": null,
      "grid_template_rows": null,
      "height": null,
      "justify_content": null,
      "justify_items": null,
      "left": null,
      "margin": null,
      "max_height": null,
      "max_width": null,
      "min_height": null,
      "min_width": null,
      "object_fit": null,
      "object_position": null,
      "order": null,
      "overflow": null,
      "overflow_x": null,
      "overflow_y": null,
      "padding": null,
      "right": null,
      "top": null,
      "visibility": null,
      "width": null
     }
    },
    "ebef2c7f1b204ce58ea53095c64892e1": {
     "model_module": "@jupyter-widgets/controls",
     "model_module_version": "1.5.0",
     "model_name": "VBoxModel",
     "state": {
      "_dom_classes": [
       "widget-interact"
      ],
      "_model_module": "@jupyter-widgets/controls",
      "_model_module_version": "1.5.0",
      "_model_name": "VBoxModel",
      "_view_count": null,
      "_view_module": "@jupyter-widgets/controls",
      "_view_module_version": "1.5.0",
      "_view_name": "VBoxView",
      "box_style": "",
      "children": [
       "IPY_MODEL_fc6833a6711949b69c7c925cd30d6a54",
       "IPY_MODEL_b0981764c73240ee92b58fb9d66c10d7"
      ],
      "layout": "IPY_MODEL_7312718d145f491a9a30cc97a53a19f0"
     }
    },
    "f02a2cfd66a44ea494d063f0359c88eb": {
     "model_module": "@jupyter-widgets/controls",
     "model_module_version": "1.5.0",
     "model_name": "HBoxModel",
     "state": {
      "_dom_classes": [],
      "_model_module": "@jupyter-widgets/controls",
      "_model_module_version": "1.5.0",
      "_model_name": "HBoxModel",
      "_view_count": null,
      "_view_module": "@jupyter-widgets/controls",
      "_view_module_version": "1.5.0",
      "_view_name": "HBoxView",
      "box_style": "",
      "children": [
       "IPY_MODEL_1f22093194df421297514c2507fd3a2a",
       "IPY_MODEL_513221b821264cbf8113dfefaaca0199"
      ],
      "layout": "IPY_MODEL_7b4096bbc8a0450e86fefd6c47b6b23c"
     }
    },
    "f17ee50e00784a0ab6949de783f3a4ea": {
     "model_module": "@jupyter-widgets/base",
     "model_module_version": "1.2.0",
     "model_name": "LayoutModel",
     "state": {
      "_model_module": "@jupyter-widgets/base",
      "_model_module_version": "1.2.0",
      "_model_name": "LayoutModel",
      "_view_count": null,
      "_view_module": "@jupyter-widgets/base",
      "_view_module_version": "1.2.0",
      "_view_name": "LayoutView",
      "align_content": null,
      "align_items": null,
      "align_self": null,
      "border": null,
      "bottom": null,
      "display": null,
      "flex": null,
      "flex_flow": null,
      "grid_area": null,
      "grid_auto_columns": null,
      "grid_auto_flow": null,
      "grid_auto_rows": null,
      "grid_column": null,
      "grid_gap": null,
      "grid_row": null,
      "grid_template_areas": null,
      "grid_template_columns": null,
      "grid_template_rows": null,
      "height": null,
      "justify_content": null,
      "justify_items": null,
      "left": null,
      "margin": null,
      "max_height": null,
      "max_width": null,
      "min_height": null,
      "min_width": null,
      "object_fit": null,
      "object_position": null,
      "order": null,
      "overflow": null,
      "overflow_x": null,
      "overflow_y": null,
      "padding": null,
      "right": null,
      "top": null,
      "visibility": null,
      "width": null
     }
    },
    "fc6833a6711949b69c7c925cd30d6a54": {
     "model_module": "@jupyter-widgets/controls",
     "model_module_version": "1.5.0",
     "model_name": "IntSliderModel",
     "state": {
      "_dom_classes": [],
      "_model_module": "@jupyter-widgets/controls",
      "_model_module_version": "1.5.0",
      "_model_name": "IntSliderModel",
      "_view_count": null,
      "_view_module": "@jupyter-widgets/controls",
      "_view_module_version": "1.5.0",
      "_view_name": "IntSliderView",
      "continuous_update": true,
      "description": "i",
      "description_tooltip": null,
      "disabled": false,
      "layout": "IPY_MODEL_40c5a7978fbc4c7385f7ed363fee7894",
      "max": 1796,
      "min": 0,
      "orientation": "horizontal",
      "readout": true,
      "readout_format": "d",
      "step": 1,
      "style": "IPY_MODEL_fd91303b74b246b1b66abb810edfa102",
      "value": 898
     }
    },
    "fd91303b74b246b1b66abb810edfa102": {
     "model_module": "@jupyter-widgets/controls",
     "model_module_version": "1.5.0",
     "model_name": "SliderStyleModel",
     "state": {
      "_model_module": "@jupyter-widgets/controls",
      "_model_module_version": "1.5.0",
      "_model_name": "SliderStyleModel",
      "_view_count": null,
      "_view_module": "@jupyter-widgets/base",
      "_view_module_version": "1.2.0",
      "_view_name": "StyleView",
      "description_width": "",
      "handle_color": null
     }
    }
   }
  }
 },
 "nbformat": 4,
 "nbformat_minor": 5
}
